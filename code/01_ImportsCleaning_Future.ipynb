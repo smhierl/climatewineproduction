{
 "cells": [
  {
   "cell_type": "code",
   "execution_count": 1,
   "id": "125c9f29",
   "metadata": {},
   "outputs": [],
   "source": [
    "import pandas as pd\n",
    "import numpy as np\n",
    "import seaborn as sns\n",
    "import matplotlib.pyplot as plt\n",
    "\n",
    "from sklearn.linear_model import LinearRegression"
   ]
  },
  {
   "cell_type": "code",
   "execution_count": 2,
   "id": "e0decf5c",
   "metadata": {},
   "outputs": [],
   "source": [
    "county_columns=['county_Madera','county_Monterey','county_Napa','county_Sacramento','county_San Joaquin','county_San Luis Obispo','county_Santa Barbara','county_Sonoma','county_Yolo']\n"
   ]
  },
  {
   "cell_type": "markdown",
   "id": "1ec443fe",
   "metadata": {},
   "source": [
    "## Mapping Relationship Between Variables"
   ]
  },
  {
   "cell_type": "markdown",
   "id": "68ad4416",
   "metadata": {},
   "source": [
    "Use the relationship between variables as seen in existing data sets to fill in necessary values for future projections."
   ]
  },
  {
   "cell_type": "code",
   "execution_count": 3,
   "id": "afe74d30",
   "metadata": {},
   "outputs": [],
   "source": [
    "df=pd.read_csv('../datasets/final_merged_data.csv')"
   ]
  },
  {
   "cell_type": "code",
   "execution_count": 4,
   "id": "5ff9dd7b",
   "metadata": {},
   "outputs": [
    {
     "data": {
      "text/html": [
       "<div>\n",
       "<style scoped>\n",
       "    .dataframe tbody tr th:only-of-type {\n",
       "        vertical-align: middle;\n",
       "    }\n",
       "\n",
       "    .dataframe tbody tr th {\n",
       "        vertical-align: top;\n",
       "    }\n",
       "\n",
       "    .dataframe thead th {\n",
       "        text-align: right;\n",
       "    }\n",
       "</style>\n",
       "<table border=\"1\" class=\"dataframe\">\n",
       "  <thead>\n",
       "    <tr style=\"text-align: right;\">\n",
       "      <th></th>\n",
       "      <th>year</th>\n",
       "      <th>county code</th>\n",
       "      <th>county</th>\n",
       "      <th>harvested acres</th>\n",
       "      <th>yield</th>\n",
       "      <th>production</th>\n",
       "      <th>price p/u</th>\n",
       "      <th>value</th>\n",
       "      <th>annual_precip</th>\n",
       "      <th>annual_tavg</th>\n",
       "      <th>annual_tmin</th>\n",
       "      <th>annual_tmax</th>\n",
       "      <th>annual_var</th>\n",
       "      <th>season_precip</th>\n",
       "      <th>season_tavg</th>\n",
       "      <th>season_tmin</th>\n",
       "      <th>season_tmax</th>\n",
       "      <th>season_var</th>\n",
       "    </tr>\n",
       "  </thead>\n",
       "  <tbody>\n",
       "    <tr>\n",
       "      <th>0</th>\n",
       "      <td>2000</td>\n",
       "      <td>19</td>\n",
       "      <td>Fresno</td>\n",
       "      <td>75139.0</td>\n",
       "      <td>11.12</td>\n",
       "      <td>835310.0</td>\n",
       "      <td>177.0</td>\n",
       "      <td>147550000</td>\n",
       "      <td>20.72</td>\n",
       "      <td>55.708333</td>\n",
       "      <td>31.4</td>\n",
       "      <td>87.1</td>\n",
       "      <td>59.4</td>\n",
       "      <td>3.44</td>\n",
       "      <td>65.416667</td>\n",
       "      <td>41.1</td>\n",
       "      <td>87.1</td>\n",
       "      <td>17.7</td>\n",
       "    </tr>\n",
       "    <tr>\n",
       "      <th>1</th>\n",
       "      <td>2000</td>\n",
       "      <td>39</td>\n",
       "      <td>Madera</td>\n",
       "      <td>56410.0</td>\n",
       "      <td>9.92</td>\n",
       "      <td>559563.0</td>\n",
       "      <td>186.0</td>\n",
       "      <td>103830000</td>\n",
       "      <td>25.89</td>\n",
       "      <td>56.516667</td>\n",
       "      <td>31.8</td>\n",
       "      <td>88.9</td>\n",
       "      <td>60.9</td>\n",
       "      <td>4.01</td>\n",
       "      <td>66.166667</td>\n",
       "      <td>41.0</td>\n",
       "      <td>88.9</td>\n",
       "      <td>18.2</td>\n",
       "    </tr>\n",
       "    <tr>\n",
       "      <th>2</th>\n",
       "      <td>2000</td>\n",
       "      <td>55</td>\n",
       "      <td>Napa</td>\n",
       "      <td>32365.0</td>\n",
       "      <td>4.23</td>\n",
       "      <td>136962.0</td>\n",
       "      <td>2464.0</td>\n",
       "      <td>337469000</td>\n",
       "      <td>31.24</td>\n",
       "      <td>59.266667</td>\n",
       "      <td>38.1</td>\n",
       "      <td>88.6</td>\n",
       "      <td>49.0</td>\n",
       "      <td>4.21</td>\n",
       "      <td>67.183333</td>\n",
       "      <td>45.2</td>\n",
       "      <td>88.6</td>\n",
       "      <td>12.2</td>\n",
       "    </tr>\n",
       "  </tbody>\n",
       "</table>\n",
       "</div>"
      ],
      "text/plain": [
       "   year  county code  county  harvested acres  yield  production  price p/u  \\\n",
       "0  2000           19  Fresno          75139.0  11.12    835310.0      177.0   \n",
       "1  2000           39  Madera          56410.0   9.92    559563.0      186.0   \n",
       "2  2000           55    Napa          32365.0   4.23    136962.0     2464.0   \n",
       "\n",
       "       value  annual_precip  annual_tavg  annual_tmin  annual_tmax  \\\n",
       "0  147550000          20.72    55.708333         31.4         87.1   \n",
       "1  103830000          25.89    56.516667         31.8         88.9   \n",
       "2  337469000          31.24    59.266667         38.1         88.6   \n",
       "\n",
       "   annual_var  season_precip  season_tavg  season_tmin  season_tmax  \\\n",
       "0        59.4           3.44    65.416667         41.1         87.1   \n",
       "1        60.9           4.01    66.166667         41.0         88.9   \n",
       "2        49.0           4.21    67.183333         45.2         88.6   \n",
       "\n",
       "   season_var  \n",
       "0        17.7  \n",
       "1        18.2  \n",
       "2        12.2  "
      ]
     },
     "execution_count": 4,
     "metadata": {},
     "output_type": "execute_result"
    }
   ],
   "source": [
    "df.head(3)"
   ]
  },
  {
   "cell_type": "markdown",
   "id": "3d164de7",
   "metadata": {},
   "source": [
    "##### Annual Average Temperature (annual_tavg)"
   ]
  },
  {
   "cell_type": "code",
   "execution_count": 5,
   "id": "434ffb44",
   "metadata": {},
   "outputs": [
    {
     "data": {
      "text/plain": [
       "LinearRegression()"
      ]
     },
     "execution_count": 5,
     "metadata": {},
     "output_type": "execute_result"
    }
   ],
   "source": [
    "X=df[['annual_tmin','annual_tmax']]\n",
    "y=df['annual_tavg']\n",
    "\n",
    "lr_annual_tavg=LinearRegression()\n",
    "lr_annual_tavg.fit(X,y)"
   ]
  },
  {
   "cell_type": "markdown",
   "id": "04f67333",
   "metadata": {},
   "source": [
    "##### Seasonal Average Temperature (season_tavg)"
   ]
  },
  {
   "cell_type": "code",
   "execution_count": 6,
   "id": "03dec21f",
   "metadata": {},
   "outputs": [
    {
     "data": {
      "text/plain": [
       "LinearRegression()"
      ]
     },
     "execution_count": 6,
     "metadata": {},
     "output_type": "execute_result"
    }
   ],
   "source": [
    "X=df[['annual_tavg']]\n",
    "y=df['season_tavg']\n",
    "\n",
    "lr_season_tavg=LinearRegression()\n",
    "lr_season_tavg.fit(X,y)"
   ]
  },
  {
   "cell_type": "markdown",
   "id": "6fc6d646",
   "metadata": {},
   "source": [
    "##### Seasonal Minimum Temperature (season_tmin)"
   ]
  },
  {
   "cell_type": "code",
   "execution_count": 7,
   "id": "fc7ac86f",
   "metadata": {},
   "outputs": [
    {
     "data": {
      "text/plain": [
       "LinearRegression()"
      ]
     },
     "execution_count": 7,
     "metadata": {},
     "output_type": "execute_result"
    }
   ],
   "source": [
    "X=df[['annual_tmin']]\n",
    "y=df['season_tmin']\n",
    "\n",
    "lr_season_tmin=LinearRegression()\n",
    "lr_season_tmin.fit(X,y)"
   ]
  },
  {
   "cell_type": "markdown",
   "id": "f7e9ca87",
   "metadata": {},
   "source": [
    "## NAPA - Historical\n"
   ]
  },
  {
   "cell_type": "code",
   "execution_count": 8,
   "id": "476af1b6",
   "metadata": {},
   "outputs": [],
   "source": [
    "prec = pd.read_csv('../datasets/napa_climate/pr_year_CNRM-CM5_historical.csv')\n",
    "avg_max = pd.read_csv('../datasets/napa_climate/tasmax_year_CNRM-CM5_historical.csv')\n",
    "avg_min = pd.read_csv('../datasets/napa_climate/tasmin_year_CNRM-CM5_historical.csv')"
   ]
  },
  {
   "cell_type": "code",
   "execution_count": 9,
   "id": "10cb09f8",
   "metadata": {},
   "outputs": [],
   "source": [
    "prec.drop(columns=['min', 'max', 'std','count'], inplace=True)\n",
    "avg_max.drop(columns=['min', 'max', 'std','count', 'time'], inplace=True)\n",
    "avg_min.drop(columns=['min', 'max', 'std','count', 'time'], inplace=True)"
   ]
  },
  {
   "cell_type": "code",
   "execution_count": 10,
   "id": "3c280632",
   "metadata": {},
   "outputs": [],
   "source": [
    "#renaming the column before merging\n",
    "cols = [col for col in prec]\n",
    "def adding_string(value):\n",
    "    return value + ' ' + 'Prec'\n",
    "cols2 = []\n",
    "for col in cols:\n",
    "    cols2.append(adding_string(col))\n",
    "dictionary_2 = dict(zip(cols, cols2))\n",
    "prec.rename(columns=dictionary_2, inplace=True)\n",
    "def adding_string(value):\n",
    "    return value + ' ' + 'Tmax'\n",
    "cols2 = []\n",
    "for col in cols:\n",
    "    cols2.append(adding_string(col))\n",
    "dictionary_2 = dict(zip(cols, cols2))\n",
    "avg_max.rename(columns=dictionary_2, inplace=True)\n",
    "def adding_string(value):\n",
    "    return value + ' ' + 'Tmin'\n",
    "cols2 = []\n",
    "for col in cols:\n",
    "    cols2.append(adding_string(col))\n",
    "dictionary_2 = dict(zip(cols, cols2))\n",
    "avg_min.rename(columns=dictionary_2, inplace=True)\n",
    "#resetting the index for merging \n",
    "prec.reset_index(inplace=True)\n",
    "avg_max.reset_index(inplace=True)\n",
    "avg_min.reset_index(inplace=True)"
   ]
  },
  {
   "cell_type": "code",
   "execution_count": 11,
   "id": "f90e11e5",
   "metadata": {},
   "outputs": [
    {
     "data": {
      "text/html": [
       "<div>\n",
       "<style scoped>\n",
       "    .dataframe tbody tr th:only-of-type {\n",
       "        vertical-align: middle;\n",
       "    }\n",
       "\n",
       "    .dataframe tbody tr th {\n",
       "        vertical-align: top;\n",
       "    }\n",
       "\n",
       "    .dataframe thead th {\n",
       "        text-align: right;\n",
       "    }\n",
       "</style>\n",
       "<table border=\"1\" class=\"dataframe\">\n",
       "  <thead>\n",
       "    <tr style=\"text-align: right;\">\n",
       "      <th></th>\n",
       "      <th>time Prec</th>\n",
       "      <th>mean Prec</th>\n",
       "      <th>mean Tmax</th>\n",
       "      <th>mean Tmin</th>\n",
       "    </tr>\n",
       "  </thead>\n",
       "  <tbody>\n",
       "    <tr>\n",
       "      <th>0</th>\n",
       "      <td>1950-12-31 00:00:00+00:00</td>\n",
       "      <td>10.660813</td>\n",
       "      <td>70.1236</td>\n",
       "      <td>45.54186</td>\n",
       "    </tr>\n",
       "  </tbody>\n",
       "</table>\n",
       "</div>"
      ],
      "text/plain": [
       "                   time Prec  mean Prec  mean Tmax  mean Tmin\n",
       "0  1950-12-31 00:00:00+00:00  10.660813    70.1236   45.54186"
      ]
     },
     "execution_count": 11,
     "metadata": {},
     "output_type": "execute_result"
    }
   ],
   "source": [
    "first_join = pd.merge(prec, avg_max, left_on='index', right_on='index')\n",
    "historical_climate_napa = pd.merge(first_join, avg_min, left_on='index', right_on='index')\n",
    "historical_climate_napa.drop(columns='index', inplace=True)\n",
    "historical_climate_napa.head(1)"
   ]
  },
  {
   "cell_type": "markdown",
   "id": "a50b3437",
   "metadata": {},
   "source": [
    "## NAPA RCP 4.5"
   ]
  },
  {
   "cell_type": "code",
   "execution_count": 12,
   "id": "2f4613c1",
   "metadata": {},
   "outputs": [],
   "source": [
    "prec = pd.read_csv('../datasets/napa_climate/pr_year_CNRM-CM5_rcp45.csv')\n",
    "avg_max = pd.read_csv('../datasets/napa_climate/tasmax_year_CNRM-CM5_rcp45.csv')\n",
    "avg_min = pd.read_csv('../datasets/napa_climate/tasmin_year_CNRM-CM5_rcp45.csv')"
   ]
  },
  {
   "cell_type": "code",
   "execution_count": 13,
   "id": "b2785433",
   "metadata": {},
   "outputs": [],
   "source": [
    "prec.drop(columns=['min', 'max', 'std','count'], inplace=True)\n",
    "avg_max.drop(columns=['min', 'max', 'std','count', 'time'], inplace=True)\n",
    "avg_min.drop(columns=['min', 'max', 'std','count', 'time'], inplace=True)"
   ]
  },
  {
   "cell_type": "code",
   "execution_count": 14,
   "id": "f5086543",
   "metadata": {},
   "outputs": [],
   "source": [
    "#renaming the column before merging\n",
    "cols = [col for col in prec]\n",
    "def adding_string(value):\n",
    "    return value + ' ' + 'Prec'\n",
    "cols2 = []\n",
    "for col in cols:\n",
    "    cols2.append(adding_string(col))\n",
    "dictionary_2 = dict(zip(cols, cols2))\n",
    "prec.rename(columns=dictionary_2, inplace=True)\n",
    "def adding_string(value):\n",
    "    return value + ' ' + 'Tmax'\n",
    "cols2 = []\n",
    "for col in cols:\n",
    "    cols2.append(adding_string(col))\n",
    "dictionary_2 = dict(zip(cols, cols2))\n",
    "avg_max.rename(columns=dictionary_2, inplace=True)\n",
    "def adding_string(value):\n",
    "    return value + ' ' + 'Tmin'\n",
    "cols2 = []\n",
    "for col in cols:\n",
    "    cols2.append(adding_string(col))\n",
    "dictionary_2 = dict(zip(cols, cols2))\n",
    "avg_min.rename(columns=dictionary_2, inplace=True)\n",
    "#resetting the index for merging \n",
    "prec.reset_index(inplace=True)\n",
    "avg_max.reset_index(inplace=True)\n",
    "avg_min.reset_index(inplace=True)"
   ]
  },
  {
   "cell_type": "code",
   "execution_count": 15,
   "id": "c5f498fd",
   "metadata": {
    "scrolled": false
   },
   "outputs": [
    {
     "data": {
      "text/html": [
       "<div>\n",
       "<style scoped>\n",
       "    .dataframe tbody tr th:only-of-type {\n",
       "        vertical-align: middle;\n",
       "    }\n",
       "\n",
       "    .dataframe tbody tr th {\n",
       "        vertical-align: top;\n",
       "    }\n",
       "\n",
       "    .dataframe thead th {\n",
       "        text-align: right;\n",
       "    }\n",
       "</style>\n",
       "<table border=\"1\" class=\"dataframe\">\n",
       "  <thead>\n",
       "    <tr style=\"text-align: right;\">\n",
       "      <th></th>\n",
       "      <th>time Prec</th>\n",
       "      <th>mean Prec</th>\n",
       "      <th>mean Tmax</th>\n",
       "      <th>mean Tmin</th>\n",
       "    </tr>\n",
       "  </thead>\n",
       "  <tbody>\n",
       "    <tr>\n",
       "      <th>0</th>\n",
       "      <td>2006-12-31 00:00:00+00:00</td>\n",
       "      <td>4.203695</td>\n",
       "      <td>73.273605</td>\n",
       "      <td>45.209522</td>\n",
       "    </tr>\n",
       "  </tbody>\n",
       "</table>\n",
       "</div>"
      ],
      "text/plain": [
       "                   time Prec  mean Prec  mean Tmax  mean Tmin\n",
       "0  2006-12-31 00:00:00+00:00   4.203695  73.273605  45.209522"
      ]
     },
     "execution_count": 15,
     "metadata": {},
     "output_type": "execute_result"
    }
   ],
   "source": [
    "first_join = pd.merge(prec, avg_max, left_on='index', right_on='index')\n",
    "rcp45_climate_napa = pd.merge(first_join, avg_min, left_on='index', right_on='index')\n",
    "rcp45_climate_napa.drop(columns='index', inplace=True)\n",
    "rcp45_climate_napa.head(1)"
   ]
  },
  {
   "cell_type": "code",
   "execution_count": 16,
   "id": "caab529a",
   "metadata": {},
   "outputs": [],
   "source": [
    "def simplify_year(string):\n",
    "    return string[0:4]"
   ]
  },
  {
   "cell_type": "code",
   "execution_count": 17,
   "id": "20c0c48d",
   "metadata": {},
   "outputs": [],
   "source": [
    "rcp45_climate_napa['time Prec']=rcp45_climate_napa['time Prec'].map(simplify_year)"
   ]
  },
  {
   "cell_type": "code",
   "execution_count": 18,
   "id": "e6c85097",
   "metadata": {},
   "outputs": [
    {
     "data": {
      "text/html": [
       "<div>\n",
       "<style scoped>\n",
       "    .dataframe tbody tr th:only-of-type {\n",
       "        vertical-align: middle;\n",
       "    }\n",
       "\n",
       "    .dataframe tbody tr th {\n",
       "        vertical-align: top;\n",
       "    }\n",
       "\n",
       "    .dataframe thead th {\n",
       "        text-align: right;\n",
       "    }\n",
       "</style>\n",
       "<table border=\"1\" class=\"dataframe\">\n",
       "  <thead>\n",
       "    <tr style=\"text-align: right;\">\n",
       "      <th></th>\n",
       "      <th>time Prec</th>\n",
       "      <th>mean Prec</th>\n",
       "      <th>mean Tmax</th>\n",
       "      <th>mean Tmin</th>\n",
       "    </tr>\n",
       "  </thead>\n",
       "  <tbody>\n",
       "    <tr>\n",
       "      <th>0</th>\n",
       "      <td>2006</td>\n",
       "      <td>4.203695</td>\n",
       "      <td>73.273605</td>\n",
       "      <td>45.209522</td>\n",
       "    </tr>\n",
       "  </tbody>\n",
       "</table>\n",
       "</div>"
      ],
      "text/plain": [
       "  time Prec  mean Prec  mean Tmax  mean Tmin\n",
       "0      2006   4.203695  73.273605  45.209522"
      ]
     },
     "execution_count": 18,
     "metadata": {},
     "output_type": "execute_result"
    }
   ],
   "source": [
    "rcp45_climate_napa.head(1)"
   ]
  },
  {
   "cell_type": "code",
   "execution_count": 19,
   "id": "66329334",
   "metadata": {},
   "outputs": [],
   "source": [
    "rcp45_climate_napa.rename(columns={'time Prec':'year','mean Prec':'annual_precip','mean Tmax':'annual_tmax','mean Tmin':'annual_tmin'},inplace=True)\n"
   ]
  },
  {
   "cell_type": "code",
   "execution_count": 20,
   "id": "99b25a60",
   "metadata": {},
   "outputs": [
    {
     "data": {
      "text/plain": [
       "LinearRegression()"
      ]
     },
     "execution_count": 20,
     "metadata": {},
     "output_type": "execute_result"
    }
   ],
   "source": [
    "X=df[['annual_tmin','annual_tmax']]\n",
    "y=df['annual_tavg']\n",
    "\n",
    "lr_annual_tavg=LinearRegression()\n",
    "lr_annual_tavg.fit(X,y)"
   ]
  },
  {
   "cell_type": "code",
   "execution_count": 21,
   "id": "eb628290",
   "metadata": {},
   "outputs": [],
   "source": [
    "X=rcp45_climate_napa[['annual_tmin','annual_tmax']]\n",
    "rcp45_climate_napa['annual_tavg']=lr_annual_tavg.predict(X)"
   ]
  },
  {
   "cell_type": "code",
   "execution_count": 22,
   "id": "6a5fc0d3",
   "metadata": {},
   "outputs": [],
   "source": [
    "X=rcp45_climate_napa[['annual_tavg']]\n",
    "rcp45_climate_napa['season_tavg']=lr_season_tavg.predict(X)"
   ]
  },
  {
   "cell_type": "code",
   "execution_count": 23,
   "id": "a6744f05",
   "metadata": {},
   "outputs": [],
   "source": [
    "X=rcp45_climate_napa[['annual_tmin']]\n",
    "rcp45_climate_napa['season_tmin']=lr_season_tmin.predict(X)"
   ]
  },
  {
   "cell_type": "code",
   "execution_count": 24,
   "id": "6b4b0235",
   "metadata": {},
   "outputs": [],
   "source": [
    "for county in county_columns:\n",
    "    if county=='county_Napa':\n",
    "        rcp45_climate_napa[county]=1\n",
    "    else:\n",
    "        rcp45_climate_napa[county]=0"
   ]
  },
  {
   "cell_type": "code",
   "execution_count": 25,
   "id": "aab956a7",
   "metadata": {},
   "outputs": [
    {
     "data": {
      "text/html": [
       "<div>\n",
       "<style scoped>\n",
       "    .dataframe tbody tr th:only-of-type {\n",
       "        vertical-align: middle;\n",
       "    }\n",
       "\n",
       "    .dataframe tbody tr th {\n",
       "        vertical-align: top;\n",
       "    }\n",
       "\n",
       "    .dataframe thead th {\n",
       "        text-align: right;\n",
       "    }\n",
       "</style>\n",
       "<table border=\"1\" class=\"dataframe\">\n",
       "  <thead>\n",
       "    <tr style=\"text-align: right;\">\n",
       "      <th></th>\n",
       "      <th>year</th>\n",
       "      <th>annual_precip</th>\n",
       "      <th>annual_tmax</th>\n",
       "      <th>annual_tmin</th>\n",
       "      <th>annual_tavg</th>\n",
       "      <th>season_tavg</th>\n",
       "      <th>season_tmin</th>\n",
       "      <th>county_Madera</th>\n",
       "      <th>county_Monterey</th>\n",
       "      <th>county_Napa</th>\n",
       "      <th>county_Sacramento</th>\n",
       "      <th>county_San Joaquin</th>\n",
       "      <th>county_San Luis Obispo</th>\n",
       "      <th>county_Santa Barbara</th>\n",
       "      <th>county_Sonoma</th>\n",
       "      <th>county_Yolo</th>\n",
       "    </tr>\n",
       "  </thead>\n",
       "  <tbody>\n",
       "    <tr>\n",
       "      <th>0</th>\n",
       "      <td>2006</td>\n",
       "      <td>4.203695</td>\n",
       "      <td>73.273605</td>\n",
       "      <td>45.209522</td>\n",
       "      <td>58.078777</td>\n",
       "      <td>65.659579</td>\n",
       "      <td>48.228762</td>\n",
       "      <td>0</td>\n",
       "      <td>0</td>\n",
       "      <td>1</td>\n",
       "      <td>0</td>\n",
       "      <td>0</td>\n",
       "      <td>0</td>\n",
       "      <td>0</td>\n",
       "      <td>0</td>\n",
       "      <td>0</td>\n",
       "    </tr>\n",
       "    <tr>\n",
       "      <th>1</th>\n",
       "      <td>2007</td>\n",
       "      <td>5.943792</td>\n",
       "      <td>73.647140</td>\n",
       "      <td>46.158684</td>\n",
       "      <td>58.593558</td>\n",
       "      <td>66.201239</td>\n",
       "      <td>48.695874</td>\n",
       "      <td>0</td>\n",
       "      <td>0</td>\n",
       "      <td>1</td>\n",
       "      <td>0</td>\n",
       "      <td>0</td>\n",
       "      <td>0</td>\n",
       "      <td>0</td>\n",
       "      <td>0</td>\n",
       "      <td>0</td>\n",
       "    </tr>\n",
       "    <tr>\n",
       "      <th>2</th>\n",
       "      <td>2008</td>\n",
       "      <td>10.814575</td>\n",
       "      <td>73.451140</td>\n",
       "      <td>46.439552</td>\n",
       "      <td>58.645024</td>\n",
       "      <td>66.255393</td>\n",
       "      <td>48.834098</td>\n",
       "      <td>0</td>\n",
       "      <td>0</td>\n",
       "      <td>1</td>\n",
       "      <td>0</td>\n",
       "      <td>0</td>\n",
       "      <td>0</td>\n",
       "      <td>0</td>\n",
       "      <td>0</td>\n",
       "      <td>0</td>\n",
       "    </tr>\n",
       "  </tbody>\n",
       "</table>\n",
       "</div>"
      ],
      "text/plain": [
       "   year  annual_precip  annual_tmax  annual_tmin  annual_tavg  season_tavg  \\\n",
       "0  2006       4.203695    73.273605    45.209522    58.078777    65.659579   \n",
       "1  2007       5.943792    73.647140    46.158684    58.593558    66.201239   \n",
       "2  2008      10.814575    73.451140    46.439552    58.645024    66.255393   \n",
       "\n",
       "   season_tmin  county_Madera  county_Monterey  county_Napa  \\\n",
       "0    48.228762              0                0            1   \n",
       "1    48.695874              0                0            1   \n",
       "2    48.834098              0                0            1   \n",
       "\n",
       "   county_Sacramento  county_San Joaquin  county_San Luis Obispo  \\\n",
       "0                  0                   0                       0   \n",
       "1                  0                   0                       0   \n",
       "2                  0                   0                       0   \n",
       "\n",
       "   county_Santa Barbara  county_Sonoma  county_Yolo  \n",
       "0                     0              0            0  \n",
       "1                     0              0            0  \n",
       "2                     0              0            0  "
      ]
     },
     "execution_count": 25,
     "metadata": {},
     "output_type": "execute_result"
    }
   ],
   "source": [
    "rcp45_climate_napa.head(3)"
   ]
  },
  {
   "cell_type": "markdown",
   "id": "d1a3d1eb",
   "metadata": {},
   "source": [
    "## NAPA - RCP 8.5"
   ]
  },
  {
   "cell_type": "code",
   "execution_count": 26,
   "id": "d581ea4d",
   "metadata": {},
   "outputs": [],
   "source": [
    "prec = pd.read_csv('../datasets/napa_climate/pr_year_CNRM-CM5_rcp85.csv')\n",
    "avg_max = pd.read_csv('../datasets/napa_climate/tasmax_year_CNRM-CM5_rcp85.csv')\n",
    "avg_min = pd.read_csv('../datasets/napa_climate/tasmin_year_CNRM-CM5_rcp85.csv')"
   ]
  },
  {
   "cell_type": "code",
   "execution_count": 27,
   "id": "56929680",
   "metadata": {},
   "outputs": [],
   "source": [
    "prec.drop(columns=['min', 'max', 'std','count'], inplace=True)\n",
    "avg_max.drop(columns=['min', 'max', 'std','count', 'time'], inplace=True)\n",
    "avg_min.drop(columns=['min', 'max', 'std','count', 'time'], inplace=True)"
   ]
  },
  {
   "cell_type": "code",
   "execution_count": 28,
   "id": "f800fc83",
   "metadata": {},
   "outputs": [],
   "source": [
    "#renaming the column before merging\n",
    "cols = [col for col in prec]\n",
    "def adding_string(value):\n",
    "    return value + ' ' + 'Prec'\n",
    "cols2 = []\n",
    "for col in cols:\n",
    "    cols2.append(adding_string(col))\n",
    "dictionary_2 = dict(zip(cols, cols2))\n",
    "prec.rename(columns=dictionary_2, inplace=True)\n",
    "def adding_string(value):\n",
    "    return value + ' ' + 'Tmax'\n",
    "cols2 = []\n",
    "for col in cols:\n",
    "    cols2.append(adding_string(col))\n",
    "dictionary_2 = dict(zip(cols, cols2))\n",
    "avg_max.rename(columns=dictionary_2, inplace=True)\n",
    "def adding_string(value):\n",
    "    return value + ' ' + 'Tmin'\n",
    "cols2 = []\n",
    "for col in cols:\n",
    "    cols2.append(adding_string(col))\n",
    "dictionary_2 = dict(zip(cols, cols2))\n",
    "avg_min.rename(columns=dictionary_2, inplace=True)\n",
    "#resetting the index for merging \n",
    "prec.reset_index(inplace=True)\n",
    "avg_max.reset_index(inplace=True)\n",
    "avg_min.reset_index(inplace=True)"
   ]
  },
  {
   "cell_type": "code",
   "execution_count": 29,
   "id": "47de24f9",
   "metadata": {
    "scrolled": true
   },
   "outputs": [
    {
     "data": {
      "text/html": [
       "<div>\n",
       "<style scoped>\n",
       "    .dataframe tbody tr th:only-of-type {\n",
       "        vertical-align: middle;\n",
       "    }\n",
       "\n",
       "    .dataframe tbody tr th {\n",
       "        vertical-align: top;\n",
       "    }\n",
       "\n",
       "    .dataframe thead th {\n",
       "        text-align: right;\n",
       "    }\n",
       "</style>\n",
       "<table border=\"1\" class=\"dataframe\">\n",
       "  <thead>\n",
       "    <tr style=\"text-align: right;\">\n",
       "      <th></th>\n",
       "      <th>time Prec</th>\n",
       "      <th>mean Prec</th>\n",
       "      <th>mean Tmax</th>\n",
       "      <th>mean Tmin</th>\n",
       "    </tr>\n",
       "  </thead>\n",
       "  <tbody>\n",
       "    <tr>\n",
       "      <th>0</th>\n",
       "      <td>2006-12-31 00:00:00+00:00</td>\n",
       "      <td>4.76829</td>\n",
       "      <td>72.29054</td>\n",
       "      <td>44.06914</td>\n",
       "    </tr>\n",
       "  </tbody>\n",
       "</table>\n",
       "</div>"
      ],
      "text/plain": [
       "                   time Prec  mean Prec  mean Tmax  mean Tmin\n",
       "0  2006-12-31 00:00:00+00:00    4.76829   72.29054   44.06914"
      ]
     },
     "execution_count": 29,
     "metadata": {},
     "output_type": "execute_result"
    }
   ],
   "source": [
    "first_join = pd.merge(prec, avg_max, left_on='index', right_on='index')\n",
    "rcp85_climate_napa = pd.merge(first_join, avg_min, left_on='index', right_on='index')\n",
    "rcp85_climate_napa.drop(columns='index', inplace=True)\n",
    "rcp85_climate_napa.head(1)"
   ]
  },
  {
   "cell_type": "code",
   "execution_count": 30,
   "id": "0c39abd5",
   "metadata": {},
   "outputs": [],
   "source": [
    "rcp85_climate_napa['time Prec']=rcp85_climate_napa['time Prec'].map(simplify_year)"
   ]
  },
  {
   "cell_type": "code",
   "execution_count": 31,
   "id": "0ece67ab",
   "metadata": {},
   "outputs": [],
   "source": [
    "rcp85_climate_napa.rename(columns={'time Prec':'year','mean Prec':'annual_precip','mean Tmax':'annual_tmax','mean Tmin':'annual_tmin'},inplace=True)"
   ]
  },
  {
   "cell_type": "code",
   "execution_count": 32,
   "id": "28f25d4a",
   "metadata": {},
   "outputs": [],
   "source": [
    "X=rcp85_climate_napa[['annual_tmin','annual_tmax']]\n",
    "rcp85_climate_napa['annual_tavg']=lr_annual_tavg.predict(X)"
   ]
  },
  {
   "cell_type": "code",
   "execution_count": 33,
   "id": "2a42f33c",
   "metadata": {},
   "outputs": [],
   "source": [
    "X=rcp85_climate_napa[['annual_tavg']]\n",
    "rcp85_climate_napa['season_tavg']=lr_season_tavg.predict(X)"
   ]
  },
  {
   "cell_type": "code",
   "execution_count": 34,
   "id": "d38d5e30",
   "metadata": {},
   "outputs": [],
   "source": [
    "X=rcp85_climate_napa[['annual_tmin']]\n",
    "rcp85_climate_napa['season_tmin']=lr_season_tmin.predict(X)"
   ]
  },
  {
   "cell_type": "code",
   "execution_count": 35,
   "id": "62e97ba3",
   "metadata": {},
   "outputs": [],
   "source": [
    "for county in county_columns:\n",
    "    if county=='county_Napa':\n",
    "        rcp85_climate_napa[county]=1\n",
    "    else:\n",
    "        rcp85_climate_napa[county]=0"
   ]
  },
  {
   "cell_type": "markdown",
   "id": "68ed9e9c",
   "metadata": {},
   "source": [
    "## Sonoma - Historical\n"
   ]
  },
  {
   "cell_type": "code",
   "execution_count": 36,
   "id": "7e2c6e7a",
   "metadata": {},
   "outputs": [],
   "source": [
    "prec = pd.read_csv('../datasets/sonoma_climate/pr_year_CNRM-CM5_historical.csv')\n",
    "avg_max = pd.read_csv('../datasets/sonoma_climate/tasmax_year_CNRM-CM5_historical.csv')\n",
    "avg_min = pd.read_csv('../datasets/sonoma_climate/tasmin_year_CNRM-CM5_historical.csv')"
   ]
  },
  {
   "cell_type": "code",
   "execution_count": 37,
   "id": "a201f251",
   "metadata": {},
   "outputs": [],
   "source": [
    "prec.drop(columns=['min', 'max', 'std','count'], inplace=True)\n",
    "avg_max.drop(columns=['min', 'max', 'std','count', 'time'], inplace=True)\n",
    "avg_min.drop(columns=['min', 'max', 'std','count', 'time'], inplace=True)"
   ]
  },
  {
   "cell_type": "code",
   "execution_count": 38,
   "id": "31b23578",
   "metadata": {},
   "outputs": [],
   "source": [
    "#renaming the column before merging\n",
    "cols = [col for col in prec]\n",
    "def adding_string(value):\n",
    "    return value + ' ' + 'Prec'\n",
    "cols2 = []\n",
    "for col in cols:\n",
    "    cols2.append(adding_string(col))\n",
    "dictionary_2 = dict(zip(cols, cols2))\n",
    "prec.rename(columns=dictionary_2, inplace=True)\n",
    "def adding_string(value):\n",
    "    return value + ' ' + 'Tmax'\n",
    "cols2 = []\n",
    "for col in cols:\n",
    "    cols2.append(adding_string(col))\n",
    "dictionary_2 = dict(zip(cols, cols2))\n",
    "avg_max.rename(columns=dictionary_2, inplace=True)\n",
    "def adding_string(value):\n",
    "    return value + ' ' + 'Tmin'\n",
    "cols2 = []\n",
    "for col in cols:\n",
    "    cols2.append(adding_string(col))\n",
    "dictionary_2 = dict(zip(cols, cols2))\n",
    "avg_min.rename(columns=dictionary_2, inplace=True)\n",
    "#resetting the index for merging \n",
    "prec.reset_index(inplace=True)\n",
    "avg_max.reset_index(inplace=True)\n",
    "avg_min.reset_index(inplace=True)"
   ]
  },
  {
   "cell_type": "code",
   "execution_count": 39,
   "id": "50884968",
   "metadata": {
    "scrolled": false
   },
   "outputs": [
    {
     "data": {
      "text/html": [
       "<div>\n",
       "<style scoped>\n",
       "    .dataframe tbody tr th:only-of-type {\n",
       "        vertical-align: middle;\n",
       "    }\n",
       "\n",
       "    .dataframe tbody tr th {\n",
       "        vertical-align: top;\n",
       "    }\n",
       "\n",
       "    .dataframe thead th {\n",
       "        text-align: right;\n",
       "    }\n",
       "</style>\n",
       "<table border=\"1\" class=\"dataframe\">\n",
       "  <thead>\n",
       "    <tr style=\"text-align: right;\">\n",
       "      <th></th>\n",
       "      <th>time Prec</th>\n",
       "      <th>mean Prec</th>\n",
       "      <th>mean Tmax</th>\n",
       "      <th>mean Tmin</th>\n",
       "    </tr>\n",
       "  </thead>\n",
       "  <tbody>\n",
       "    <tr>\n",
       "      <th>0</th>\n",
       "      <td>1950-12-31 00:00:00+00:00</td>\n",
       "      <td>30.501086</td>\n",
       "      <td>68.9162</td>\n",
       "      <td>45.79026</td>\n",
       "    </tr>\n",
       "  </tbody>\n",
       "</table>\n",
       "</div>"
      ],
      "text/plain": [
       "                   time Prec  mean Prec  mean Tmax  mean Tmin\n",
       "0  1950-12-31 00:00:00+00:00  30.501086    68.9162   45.79026"
      ]
     },
     "execution_count": 39,
     "metadata": {},
     "output_type": "execute_result"
    }
   ],
   "source": [
    "first_join = pd.merge(prec, avg_max, left_on='index', right_on='index')\n",
    "historical_climate_sonoma = pd.merge(first_join, avg_min, left_on='index', right_on='index')\n",
    "historical_climate_sonoma.drop(columns='index', inplace=True)\n",
    "historical_climate_sonoma.head(1)"
   ]
  },
  {
   "cell_type": "markdown",
   "id": "ca64e10a",
   "metadata": {},
   "source": [
    "## Sonoma - RCP 45"
   ]
  },
  {
   "cell_type": "code",
   "execution_count": 40,
   "id": "7ccedbc9",
   "metadata": {},
   "outputs": [],
   "source": [
    "prec = pd.read_csv('../datasets/sonoma_climate/pr_year_CNRM-CM5_rcp45.csv')\n",
    "avg_max = pd.read_csv('../datasets/sonoma_climate/tasmax_year_CNRM-CM5_rcp45.csv')\n",
    "avg_min = pd.read_csv('../datasets/sonoma_climate/tasmin_year_CNRM-CM5_rcp45.csv')"
   ]
  },
  {
   "cell_type": "code",
   "execution_count": 41,
   "id": "153ae423",
   "metadata": {},
   "outputs": [],
   "source": [
    "prec.drop(columns=['min', 'max', 'std','count'], inplace=True)\n",
    "avg_max.drop(columns=['min', 'max', 'std','count', 'time'], inplace=True)\n",
    "avg_min.drop(columns=['min', 'max', 'std','count', 'time'], inplace=True)"
   ]
  },
  {
   "cell_type": "code",
   "execution_count": 42,
   "id": "6b22cf59",
   "metadata": {},
   "outputs": [],
   "source": [
    "#renaming the column before merging\n",
    "cols = [col for col in prec]\n",
    "def adding_string(value):\n",
    "    return value + ' ' + 'Prec'\n",
    "cols2 = []\n",
    "for col in cols:\n",
    "    cols2.append(adding_string(col))\n",
    "dictionary_2 = dict(zip(cols, cols2))\n",
    "prec.rename(columns=dictionary_2, inplace=True)\n",
    "def adding_string(value):\n",
    "    return value + ' ' + 'Tmax'\n",
    "cols2 = []\n",
    "for col in cols:\n",
    "    cols2.append(adding_string(col))\n",
    "dictionary_2 = dict(zip(cols, cols2))\n",
    "avg_max.rename(columns=dictionary_2, inplace=True)\n",
    "def adding_string(value):\n",
    "    return value + ' ' + 'Tmin'\n",
    "cols2 = []\n",
    "for col in cols:\n",
    "    cols2.append(adding_string(col))\n",
    "dictionary_2 = dict(zip(cols, cols2))\n",
    "avg_min.rename(columns=dictionary_2, inplace=True)\n",
    "#resetting the index for merging \n",
    "prec.reset_index(inplace=True)\n",
    "avg_max.reset_index(inplace=True)\n",
    "avg_min.reset_index(inplace=True)"
   ]
  },
  {
   "cell_type": "code",
   "execution_count": 43,
   "id": "83bfa2d9",
   "metadata": {},
   "outputs": [
    {
     "data": {
      "text/html": [
       "<div>\n",
       "<style scoped>\n",
       "    .dataframe tbody tr th:only-of-type {\n",
       "        vertical-align: middle;\n",
       "    }\n",
       "\n",
       "    .dataframe tbody tr th {\n",
       "        vertical-align: top;\n",
       "    }\n",
       "\n",
       "    .dataframe thead th {\n",
       "        text-align: right;\n",
       "    }\n",
       "</style>\n",
       "<table border=\"1\" class=\"dataframe\">\n",
       "  <thead>\n",
       "    <tr style=\"text-align: right;\">\n",
       "      <th></th>\n",
       "      <th>time Prec</th>\n",
       "      <th>mean Prec</th>\n",
       "      <th>mean Tmax</th>\n",
       "      <th>mean Tmin</th>\n",
       "    </tr>\n",
       "  </thead>\n",
       "  <tbody>\n",
       "    <tr>\n",
       "      <th>0</th>\n",
       "      <td>2006-12-31 00:00:00+00:00</td>\n",
       "      <td>10.933587</td>\n",
       "      <td>71.658775</td>\n",
       "      <td>44.67641</td>\n",
       "    </tr>\n",
       "  </tbody>\n",
       "</table>\n",
       "</div>"
      ],
      "text/plain": [
       "                   time Prec  mean Prec  mean Tmax  mean Tmin\n",
       "0  2006-12-31 00:00:00+00:00  10.933587  71.658775   44.67641"
      ]
     },
     "execution_count": 43,
     "metadata": {},
     "output_type": "execute_result"
    }
   ],
   "source": [
    "first_join = pd.merge(prec, avg_max, left_on='index', right_on='index')\n",
    "rcp45_climate_sonoma = pd.merge(first_join, avg_min, left_on='index', right_on='index')\n",
    "rcp45_climate_sonoma.drop(columns='index', inplace=True)\n",
    "rcp45_climate_sonoma.head(1)"
   ]
  },
  {
   "cell_type": "code",
   "execution_count": 44,
   "id": "2112850f",
   "metadata": {},
   "outputs": [],
   "source": [
    "rcp45_climate_sonoma['time Prec']=rcp45_climate_sonoma['time Prec'].map(simplify_year)"
   ]
  },
  {
   "cell_type": "code",
   "execution_count": 45,
   "id": "0ca7282f",
   "metadata": {},
   "outputs": [],
   "source": [
    "rcp45_climate_sonoma.rename(columns={'time Prec':'year','mean Prec':'annual_precip','mean Tmax':'annual_tmax','mean Tmin':'annual_tmin'},inplace=True)\n"
   ]
  },
  {
   "cell_type": "code",
   "execution_count": 46,
   "id": "8c15ade0",
   "metadata": {},
   "outputs": [],
   "source": [
    "X=rcp45_climate_sonoma[['annual_tmin','annual_tmax']]\n",
    "rcp45_climate_sonoma['annual_tavg']=lr_annual_tavg.predict(X)"
   ]
  },
  {
   "cell_type": "code",
   "execution_count": 47,
   "id": "daef2d93",
   "metadata": {},
   "outputs": [],
   "source": [
    "X=rcp45_climate_sonoma[['annual_tavg']]\n",
    "rcp45_climate_sonoma['season_tavg']=lr_season_tavg.predict(X)"
   ]
  },
  {
   "cell_type": "code",
   "execution_count": 48,
   "id": "ed5f7ede",
   "metadata": {},
   "outputs": [],
   "source": [
    "X=rcp45_climate_sonoma[['annual_tmin']]\n",
    "rcp45_climate_sonoma['season_tmin']=lr_season_tmin.predict(X)"
   ]
  },
  {
   "cell_type": "code",
   "execution_count": 49,
   "id": "6c4a287e",
   "metadata": {},
   "outputs": [],
   "source": [
    "for county in county_columns:\n",
    "    if county=='county_Sonoma':\n",
    "        rcp45_climate_sonoma[county]=1\n",
    "    else:\n",
    "        rcp45_climate_sonoma[county]=0"
   ]
  },
  {
   "cell_type": "markdown",
   "id": "2de34abc",
   "metadata": {},
   "source": [
    "## Sonoma - RCP 85"
   ]
  },
  {
   "cell_type": "code",
   "execution_count": 50,
   "id": "c278cedb",
   "metadata": {},
   "outputs": [],
   "source": [
    "prec = pd.read_csv('../datasets/sonoma_climate/pr_year_CNRM-CM5_rcp85.csv')\n",
    "avg_max = pd.read_csv('../datasets/sonoma_climate/tasmax_year_CNRM-CM5_rcp85.csv')\n",
    "avg_min = pd.read_csv('../datasets/sonoma_climate/tasmin_year_CNRM-CM5_rcp85.csv')"
   ]
  },
  {
   "cell_type": "code",
   "execution_count": 51,
   "id": "5fa4bc7f",
   "metadata": {},
   "outputs": [],
   "source": [
    "prec.drop(columns=['min', 'max', 'std','count'], inplace=True)\n",
    "avg_max.drop(columns=['min', 'max', 'std','count', 'time'], inplace=True)\n",
    "avg_min.drop(columns=['min', 'max', 'std','count', 'time'], inplace=True)"
   ]
  },
  {
   "cell_type": "code",
   "execution_count": 52,
   "id": "563a29f3",
   "metadata": {},
   "outputs": [],
   "source": [
    "#renaming the column before merging\n",
    "cols = [col for col in prec]\n",
    "def adding_string(value):\n",
    "    return value + ' ' + 'Prec'\n",
    "cols2 = []\n",
    "for col in cols:\n",
    "    cols2.append(adding_string(col))\n",
    "dictionary_2 = dict(zip(cols, cols2))\n",
    "prec.rename(columns=dictionary_2, inplace=True)\n",
    "def adding_string(value):\n",
    "    return value + ' ' + 'Tmax'\n",
    "cols2 = []\n",
    "for col in cols:\n",
    "    cols2.append(adding_string(col))\n",
    "dictionary_2 = dict(zip(cols, cols2))\n",
    "avg_max.rename(columns=dictionary_2, inplace=True)\n",
    "def adding_string(value):\n",
    "    return value + ' ' + 'Tmin'\n",
    "cols2 = []\n",
    "for col in cols:\n",
    "    cols2.append(adding_string(col))\n",
    "dictionary_2 = dict(zip(cols, cols2))\n",
    "avg_min.rename(columns=dictionary_2, inplace=True)\n",
    "#resetting the index for merging \n",
    "prec.reset_index(inplace=True)\n",
    "avg_max.reset_index(inplace=True)\n",
    "avg_min.reset_index(inplace=True)"
   ]
  },
  {
   "cell_type": "code",
   "execution_count": 53,
   "id": "75af14ce",
   "metadata": {
    "scrolled": true
   },
   "outputs": [
    {
     "data": {
      "text/html": [
       "<div>\n",
       "<style scoped>\n",
       "    .dataframe tbody tr th:only-of-type {\n",
       "        vertical-align: middle;\n",
       "    }\n",
       "\n",
       "    .dataframe tbody tr th {\n",
       "        vertical-align: top;\n",
       "    }\n",
       "\n",
       "    .dataframe thead th {\n",
       "        text-align: right;\n",
       "    }\n",
       "</style>\n",
       "<table border=\"1\" class=\"dataframe\">\n",
       "  <thead>\n",
       "    <tr style=\"text-align: right;\">\n",
       "      <th></th>\n",
       "      <th>time Prec</th>\n",
       "      <th>mean Prec</th>\n",
       "      <th>mean Tmax</th>\n",
       "      <th>mean Tmin</th>\n",
       "    </tr>\n",
       "  </thead>\n",
       "  <tbody>\n",
       "    <tr>\n",
       "      <th>0</th>\n",
       "      <td>2006-12-31 00:00:00+00:00</td>\n",
       "      <td>11.241152</td>\n",
       "      <td>70.86705</td>\n",
       "      <td>43.311687</td>\n",
       "    </tr>\n",
       "  </tbody>\n",
       "</table>\n",
       "</div>"
      ],
      "text/plain": [
       "                   time Prec  mean Prec  mean Tmax  mean Tmin\n",
       "0  2006-12-31 00:00:00+00:00  11.241152   70.86705  43.311687"
      ]
     },
     "execution_count": 53,
     "metadata": {},
     "output_type": "execute_result"
    }
   ],
   "source": [
    "first_join = pd.merge(prec, avg_max, left_on='index', right_on='index')\n",
    "rcp85_climate_sonoma = pd.merge(first_join, avg_min, left_on='index', right_on='index')\n",
    "rcp85_climate_sonoma.drop(columns='index', inplace=True)\n",
    "rcp85_climate_sonoma.head(1)"
   ]
  },
  {
   "cell_type": "code",
   "execution_count": 54,
   "id": "28afcce2",
   "metadata": {},
   "outputs": [],
   "source": [
    "rcp85_climate_sonoma['time Prec']=rcp85_climate_sonoma['time Prec'].map(simplify_year)"
   ]
  },
  {
   "cell_type": "code",
   "execution_count": 55,
   "id": "abc12c04",
   "metadata": {},
   "outputs": [],
   "source": [
    "rcp85_climate_sonoma.rename(columns={'time Prec':'year','mean Prec':'annual_precip','mean Tmax':'annual_tmax','mean Tmin':'annual_tmin'},inplace=True)\n"
   ]
  },
  {
   "cell_type": "code",
   "execution_count": 56,
   "id": "46cfe2fd",
   "metadata": {},
   "outputs": [],
   "source": [
    "X=rcp85_climate_sonoma[['annual_tmin','annual_tmax']]\n",
    "rcp85_climate_sonoma['annual_tavg']=lr_annual_tavg.predict(X)"
   ]
  },
  {
   "cell_type": "code",
   "execution_count": 57,
   "id": "ec7d6c84",
   "metadata": {},
   "outputs": [],
   "source": [
    "X=rcp85_climate_sonoma[['annual_tavg']]\n",
    "rcp85_climate_sonoma['season_tavg']=lr_season_tavg.predict(X)"
   ]
  },
  {
   "cell_type": "code",
   "execution_count": 58,
   "id": "11026f0d",
   "metadata": {},
   "outputs": [],
   "source": [
    "X=rcp85_climate_sonoma[['annual_tmin']]\n",
    "rcp85_climate_sonoma['season_tmin']=lr_season_tmin.predict(X)"
   ]
  },
  {
   "cell_type": "code",
   "execution_count": 59,
   "id": "fc6adf10",
   "metadata": {},
   "outputs": [],
   "source": [
    "for county in county_columns:\n",
    "    if county=='county_Sonoma':\n",
    "        rcp85_climate_sonoma[county]=1\n",
    "    else:\n",
    "        rcp85_climate_sonoma[county]=0"
   ]
  },
  {
   "cell_type": "markdown",
   "id": "e6919eea",
   "metadata": {},
   "source": [
    "## San Joaquin - Historical"
   ]
  },
  {
   "cell_type": "code",
   "execution_count": 60,
   "id": "857fd72d",
   "metadata": {},
   "outputs": [],
   "source": [
    "prec = pd.read_csv('../datasets/sanjoaquin_climate/pr_year_CNRM-CM5_historical.csv')\n",
    "avg_max = pd.read_csv('../datasets/sanjoaquin_climate/tasmax_year_CNRM-CM5_historical.csv')\n",
    "avg_min = pd.read_csv('../datasets/sanjoaquin_climate/tasmin_year_CNRM-CM5_historical.csv')"
   ]
  },
  {
   "cell_type": "code",
   "execution_count": 61,
   "id": "67ea3f91",
   "metadata": {},
   "outputs": [],
   "source": [
    "prec.drop(columns=['min', 'max', 'std','count'], inplace=True)\n",
    "avg_max.drop(columns=['min', 'max', 'std','count', 'time'], inplace=True)\n",
    "avg_min.drop(columns=['min', 'max', 'std','count', 'time'], inplace=True)"
   ]
  },
  {
   "cell_type": "code",
   "execution_count": 62,
   "id": "de3f4237",
   "metadata": {},
   "outputs": [],
   "source": [
    "#renaming the column before merging\n",
    "cols = [col for col in prec]\n",
    "def adding_string(value):\n",
    "    return value + ' ' + 'Prec'\n",
    "cols2 = []\n",
    "for col in cols:\n",
    "    cols2.append(adding_string(col))\n",
    "dictionary_2 = dict(zip(cols, cols2))\n",
    "prec.rename(columns=dictionary_2, inplace=True)\n",
    "def adding_string(value):\n",
    "    return value + ' ' + 'Tmax'\n",
    "cols2 = []\n",
    "for col in cols:\n",
    "    cols2.append(adding_string(col))\n",
    "dictionary_2 = dict(zip(cols, cols2))\n",
    "avg_max.rename(columns=dictionary_2, inplace=True)\n",
    "def adding_string(value):\n",
    "    return value + ' ' + 'Tmin'\n",
    "cols2 = []\n",
    "for col in cols:\n",
    "    cols2.append(adding_string(col))\n",
    "dictionary_2 = dict(zip(cols, cols2))\n",
    "avg_min.rename(columns=dictionary_2, inplace=True)\n",
    "#resetting the index for merging \n",
    "prec.reset_index(inplace=True)\n",
    "avg_max.reset_index(inplace=True)\n",
    "avg_min.reset_index(inplace=True)"
   ]
  },
  {
   "cell_type": "code",
   "execution_count": 63,
   "id": "2a24bef9",
   "metadata": {},
   "outputs": [
    {
     "data": {
      "text/html": [
       "<div>\n",
       "<style scoped>\n",
       "    .dataframe tbody tr th:only-of-type {\n",
       "        vertical-align: middle;\n",
       "    }\n",
       "\n",
       "    .dataframe tbody tr th {\n",
       "        vertical-align: top;\n",
       "    }\n",
       "\n",
       "    .dataframe thead th {\n",
       "        text-align: right;\n",
       "    }\n",
       "</style>\n",
       "<table border=\"1\" class=\"dataframe\">\n",
       "  <thead>\n",
       "    <tr style=\"text-align: right;\">\n",
       "      <th></th>\n",
       "      <th>time Prec</th>\n",
       "      <th>mean Prec</th>\n",
       "      <th>mean Tmax</th>\n",
       "      <th>mean Tmin</th>\n",
       "    </tr>\n",
       "  </thead>\n",
       "  <tbody>\n",
       "    <tr>\n",
       "      <th>0</th>\n",
       "      <td>1950-12-31 00:00:00+00:00</td>\n",
       "      <td>7.624904</td>\n",
       "      <td>73.19351</td>\n",
       "      <td>49.377846</td>\n",
       "    </tr>\n",
       "  </tbody>\n",
       "</table>\n",
       "</div>"
      ],
      "text/plain": [
       "                   time Prec  mean Prec  mean Tmax  mean Tmin\n",
       "0  1950-12-31 00:00:00+00:00   7.624904   73.19351  49.377846"
      ]
     },
     "execution_count": 63,
     "metadata": {},
     "output_type": "execute_result"
    }
   ],
   "source": [
    "first_join = pd.merge(prec, avg_max, left_on='index', right_on='index')\n",
    "historical_climate_sj = pd.merge(first_join, avg_min, left_on='index', right_on='index')\n",
    "historical_climate_sj.drop(columns='index', inplace=True)\n",
    "historical_climate_sj.head(1)"
   ]
  },
  {
   "cell_type": "markdown",
   "id": "78d04851",
   "metadata": {},
   "source": [
    "## San Joaquin - RCP 45"
   ]
  },
  {
   "cell_type": "code",
   "execution_count": 64,
   "id": "225cdf27",
   "metadata": {},
   "outputs": [],
   "source": [
    "prec = pd.read_csv('../datasets/sanjoaquin_climate/pr_year_CNRM-CM5_rcp45.csv')\n",
    "avg_max = pd.read_csv('../datasets/sanjoaquin_climate/tasmax_year_CNRM-CM5_rcp45.csv')\n",
    "avg_min = pd.read_csv('../datasets/sanjoaquin_climate/tasmin_year_CNRM-CM5_rcp45.csv')"
   ]
  },
  {
   "cell_type": "code",
   "execution_count": 65,
   "id": "f2a8d8ca",
   "metadata": {},
   "outputs": [],
   "source": [
    "prec.drop(columns=['min', 'max', 'std','count'], inplace=True)\n",
    "avg_max.drop(columns=['min', 'max', 'std','count', 'time'], inplace=True)\n",
    "avg_min.drop(columns=['min', 'max', 'std','count', 'time'], inplace=True)"
   ]
  },
  {
   "cell_type": "code",
   "execution_count": 66,
   "id": "f4cae1a5",
   "metadata": {},
   "outputs": [],
   "source": [
    "#renaming the column before merging\n",
    "cols = [col for col in prec]\n",
    "def adding_string(value):\n",
    "    return value + ' ' + 'Prec'\n",
    "cols2 = []\n",
    "for col in cols:\n",
    "    cols2.append(adding_string(col))\n",
    "dictionary_2 = dict(zip(cols, cols2))\n",
    "prec.rename(columns=dictionary_2, inplace=True)\n",
    "def adding_string(value):\n",
    "    return value + ' ' + 'Tmax'\n",
    "cols2 = []\n",
    "for col in cols:\n",
    "    cols2.append(adding_string(col))\n",
    "dictionary_2 = dict(zip(cols, cols2))\n",
    "avg_max.rename(columns=dictionary_2, inplace=True)\n",
    "def adding_string(value):\n",
    "    return value + ' ' + 'Tmin'\n",
    "cols2 = []\n",
    "for col in cols:\n",
    "    cols2.append(adding_string(col))\n",
    "dictionary_2 = dict(zip(cols, cols2))\n",
    "avg_min.rename(columns=dictionary_2, inplace=True)\n",
    "#resetting the index for merging \n",
    "prec.reset_index(inplace=True)\n",
    "avg_max.reset_index(inplace=True)\n",
    "avg_min.reset_index(inplace=True)"
   ]
  },
  {
   "cell_type": "code",
   "execution_count": 67,
   "id": "108438da",
   "metadata": {
    "scrolled": true
   },
   "outputs": [
    {
     "data": {
      "text/html": [
       "<div>\n",
       "<style scoped>\n",
       "    .dataframe tbody tr th:only-of-type {\n",
       "        vertical-align: middle;\n",
       "    }\n",
       "\n",
       "    .dataframe tbody tr th {\n",
       "        vertical-align: top;\n",
       "    }\n",
       "\n",
       "    .dataframe thead th {\n",
       "        text-align: right;\n",
       "    }\n",
       "</style>\n",
       "<table border=\"1\" class=\"dataframe\">\n",
       "  <thead>\n",
       "    <tr style=\"text-align: right;\">\n",
       "      <th></th>\n",
       "      <th>time Prec</th>\n",
       "      <th>mean Prec</th>\n",
       "      <th>mean Tmax</th>\n",
       "      <th>mean Tmin</th>\n",
       "    </tr>\n",
       "  </thead>\n",
       "  <tbody>\n",
       "    <tr>\n",
       "      <th>0</th>\n",
       "      <td>2006-12-31 00:00:00+00:00</td>\n",
       "      <td>3.326136</td>\n",
       "      <td>76.36575</td>\n",
       "      <td>48.575844</td>\n",
       "    </tr>\n",
       "  </tbody>\n",
       "</table>\n",
       "</div>"
      ],
      "text/plain": [
       "                   time Prec  mean Prec  mean Tmax  mean Tmin\n",
       "0  2006-12-31 00:00:00+00:00   3.326136   76.36575  48.575844"
      ]
     },
     "execution_count": 67,
     "metadata": {},
     "output_type": "execute_result"
    }
   ],
   "source": [
    "first_join = pd.merge(prec, avg_max, left_on='index', right_on='index')\n",
    "rcp45_climate_sj = pd.merge(first_join, avg_min, left_on='index', right_on='index')\n",
    "rcp45_climate_sj.drop(columns='index', inplace=True)\n",
    "rcp45_climate_sj.head(1)"
   ]
  },
  {
   "cell_type": "code",
   "execution_count": 68,
   "id": "4c1374a4",
   "metadata": {},
   "outputs": [],
   "source": [
    "rcp45_climate_sj['time Prec']=rcp45_climate_sj['time Prec'].map(simplify_year)"
   ]
  },
  {
   "cell_type": "code",
   "execution_count": 69,
   "id": "0f4287c3",
   "metadata": {},
   "outputs": [],
   "source": [
    "rcp45_climate_sj.rename(columns={'time Prec':'year','mean Prec':'annual_precip','mean Tmax':'annual_tmax','mean Tmin':'annual_tmin'},inplace=True)\n"
   ]
  },
  {
   "cell_type": "code",
   "execution_count": 70,
   "id": "f33df616",
   "metadata": {},
   "outputs": [],
   "source": [
    "X=rcp45_climate_sj[['annual_tmin','annual_tmax']]\n",
    "rcp45_climate_sj['annual_tavg']=lr_annual_tavg.predict(X)"
   ]
  },
  {
   "cell_type": "code",
   "execution_count": 71,
   "id": "3c9e0aa8",
   "metadata": {},
   "outputs": [],
   "source": [
    "X=rcp45_climate_sj[['annual_tavg']]\n",
    "rcp45_climate_sj['season_tavg']=lr_season_tavg.predict(X)"
   ]
  },
  {
   "cell_type": "code",
   "execution_count": 72,
   "id": "1f7f0611",
   "metadata": {},
   "outputs": [],
   "source": [
    "X=rcp45_climate_sj[['annual_tmin']]\n",
    "rcp45_climate_sj['season_tmin']=lr_season_tmin.predict(X)"
   ]
  },
  {
   "cell_type": "code",
   "execution_count": 73,
   "id": "4f468569",
   "metadata": {},
   "outputs": [],
   "source": [
    "for county in county_columns:\n",
    "    if county=='county_San Joaquin':\n",
    "        rcp45_climate_sj[county]=1\n",
    "    else:\n",
    "        rcp45_climate_sj[county]=0"
   ]
  },
  {
   "cell_type": "markdown",
   "id": "63aeef9f",
   "metadata": {},
   "source": [
    "## San Joaquin - RCP 85"
   ]
  },
  {
   "cell_type": "code",
   "execution_count": 74,
   "id": "b990aaac",
   "metadata": {},
   "outputs": [],
   "source": [
    "prec = pd.read_csv('../datasets/sanjoaquin_climate/pr_year_CNRM-CM5_rcp85.csv')\n",
    "avg_max = pd.read_csv('../datasets/sanjoaquin_climate/tasmax_year_CNRM-CM5_rcp85.csv')\n",
    "avg_min = pd.read_csv('../datasets/sanjoaquin_climate/tasmin_year_CNRM-CM5_rcp85.csv')"
   ]
  },
  {
   "cell_type": "code",
   "execution_count": 75,
   "id": "3fcb5816",
   "metadata": {},
   "outputs": [],
   "source": [
    "prec.drop(columns=['min', 'max', 'std','count'], inplace=True)\n",
    "avg_max.drop(columns=['min', 'max', 'std','count', 'time'], inplace=True)\n",
    "avg_min.drop(columns=['min', 'max', 'std','count', 'time'], inplace=True)"
   ]
  },
  {
   "cell_type": "code",
   "execution_count": 76,
   "id": "bb093f11",
   "metadata": {},
   "outputs": [],
   "source": [
    "#renaming the column before merging\n",
    "cols = [col for col in prec]\n",
    "def adding_string(value):\n",
    "    return value + ' ' + 'Prec'\n",
    "cols2 = []\n",
    "for col in cols:\n",
    "    cols2.append(adding_string(col))\n",
    "dictionary_2 = dict(zip(cols, cols2))\n",
    "prec.rename(columns=dictionary_2, inplace=True)\n",
    "def adding_string(value):\n",
    "    return value + ' ' + 'Tmax'\n",
    "cols2 = []\n",
    "for col in cols:\n",
    "    cols2.append(adding_string(col))\n",
    "dictionary_2 = dict(zip(cols, cols2))\n",
    "avg_max.rename(columns=dictionary_2, inplace=True)\n",
    "def adding_string(value):\n",
    "    return value + ' ' + 'Tmin'\n",
    "cols2 = []\n",
    "for col in cols:\n",
    "    cols2.append(adding_string(col))\n",
    "dictionary_2 = dict(zip(cols, cols2))\n",
    "avg_min.rename(columns=dictionary_2, inplace=True)\n",
    "#resetting the index for merging \n",
    "prec.reset_index(inplace=True)\n",
    "avg_max.reset_index(inplace=True)\n",
    "avg_min.reset_index(inplace=True)"
   ]
  },
  {
   "cell_type": "code",
   "execution_count": 77,
   "id": "e397475c",
   "metadata": {},
   "outputs": [
    {
     "data": {
      "text/html": [
       "<div>\n",
       "<style scoped>\n",
       "    .dataframe tbody tr th:only-of-type {\n",
       "        vertical-align: middle;\n",
       "    }\n",
       "\n",
       "    .dataframe tbody tr th {\n",
       "        vertical-align: top;\n",
       "    }\n",
       "\n",
       "    .dataframe thead th {\n",
       "        text-align: right;\n",
       "    }\n",
       "</style>\n",
       "<table border=\"1\" class=\"dataframe\">\n",
       "  <thead>\n",
       "    <tr style=\"text-align: right;\">\n",
       "      <th></th>\n",
       "      <th>time Prec</th>\n",
       "      <th>mean Prec</th>\n",
       "      <th>mean Tmax</th>\n",
       "      <th>mean Tmin</th>\n",
       "    </tr>\n",
       "  </thead>\n",
       "  <tbody>\n",
       "    <tr>\n",
       "      <th>0</th>\n",
       "      <td>2006-12-31 00:00:00+00:00</td>\n",
       "      <td>3.686406</td>\n",
       "      <td>75.03932</td>\n",
       "      <td>47.289837</td>\n",
       "    </tr>\n",
       "  </tbody>\n",
       "</table>\n",
       "</div>"
      ],
      "text/plain": [
       "                   time Prec  mean Prec  mean Tmax  mean Tmin\n",
       "0  2006-12-31 00:00:00+00:00   3.686406   75.03932  47.289837"
      ]
     },
     "execution_count": 77,
     "metadata": {},
     "output_type": "execute_result"
    }
   ],
   "source": [
    "first_join = pd.merge(prec, avg_max, left_on='index', right_on='index')\n",
    "rcp85_climate_sj = pd.merge(first_join, avg_min, left_on='index', right_on='index')\n",
    "rcp85_climate_sj.drop(columns='index', inplace=True)\n",
    "rcp85_climate_sj.head(1)"
   ]
  },
  {
   "cell_type": "code",
   "execution_count": 78,
   "id": "2a5e1b79",
   "metadata": {},
   "outputs": [],
   "source": [
    "rcp85_climate_sj['time Prec']=rcp85_climate_sj['time Prec'].map(simplify_year)"
   ]
  },
  {
   "cell_type": "code",
   "execution_count": 79,
   "id": "1781b195",
   "metadata": {},
   "outputs": [],
   "source": [
    "rcp85_climate_sj.rename(columns={'time Prec':'year','mean Prec':'annual_precip','mean Tmax':'annual_tmax','mean Tmin':'annual_tmin'},inplace=True)\n"
   ]
  },
  {
   "cell_type": "code",
   "execution_count": 80,
   "id": "98dd063a",
   "metadata": {},
   "outputs": [],
   "source": [
    "X=rcp85_climate_sj[['annual_tmin','annual_tmax']]\n",
    "rcp85_climate_sj['annual_tavg']=lr_annual_tavg.predict(X)"
   ]
  },
  {
   "cell_type": "code",
   "execution_count": 81,
   "id": "6fc27c55",
   "metadata": {},
   "outputs": [],
   "source": [
    "X=rcp85_climate_sj[['annual_tavg']]\n",
    "rcp85_climate_sj['season_tavg']=lr_season_tavg.predict(X)"
   ]
  },
  {
   "cell_type": "code",
   "execution_count": 82,
   "id": "26f4703a",
   "metadata": {},
   "outputs": [],
   "source": [
    "X=rcp85_climate_sj[['annual_tmin']]\n",
    "rcp85_climate_sj['season_tmin']=lr_season_tmin.predict(X)"
   ]
  },
  {
   "cell_type": "code",
   "execution_count": 83,
   "id": "ac3b62b2",
   "metadata": {},
   "outputs": [],
   "source": [
    "for county in county_columns:\n",
    "    if county=='county_San Joaquin':\n",
    "        rcp85_climate_sj[county]=1\n",
    "    else:\n",
    "        rcp85_climate_sj[county]=0"
   ]
  },
  {
   "cell_type": "markdown",
   "id": "4d525715",
   "metadata": {},
   "source": [
    "## Summary of data"
   ]
  },
  {
   "cell_type": "code",
   "execution_count": 84,
   "id": "0faaad33",
   "metadata": {},
   "outputs": [],
   "source": [
    "# historical\n",
    "historical_climate_napa.to_csv('../datasets/historical_napa.csv')\n",
    "historical_climate_sonoma.to_csv('../datasets/historical_sonoma.csv')\n",
    "historical_climate_sj.to_csv('../datasets/historical_sj.csv')"
   ]
  },
  {
   "cell_type": "code",
   "execution_count": 85,
   "id": "d316cd37",
   "metadata": {},
   "outputs": [],
   "source": [
    "# rcp45: projections 1 (warm house worlsd)\n",
    "rcp45_climate_napa.to_csv('../datasets/rcp45_napa.csv',index=False)\n",
    "rcp45_climate_sonoma.to_csv('../datasets/rcp45_sonoma.csv',index=False)\n",
    "rcp45_climate_sj.to_csv('../datasets/rcp45_sj.csv',index=False)"
   ]
  },
  {
   "cell_type": "code",
   "execution_count": 86,
   "id": "0326c06b",
   "metadata": {},
   "outputs": [],
   "source": [
    "# rcp85: projections 2 (hot house world)\n",
    "rcp85_climate_napa.to_csv('../datasets/rcp85_napa.csv',index=False)\n",
    "rcp85_climate_sonoma.to_csv('../datasets/rcp85_sonoma.csv',index=False)\n",
    "rcp85_climate_sj.to_csv('../datasets/rcp85_sj.csv',index=False)"
   ]
  },
  {
   "cell_type": "code",
   "execution_count": null,
   "id": "b3653eb1",
   "metadata": {},
   "outputs": [],
   "source": []
  }
 ],
 "metadata": {
  "kernelspec": {
   "display_name": "Python 3 (ipykernel)",
   "language": "python",
   "name": "python3"
  },
  "language_info": {
   "codemirror_mode": {
    "name": "ipython",
    "version": 3
   },
   "file_extension": ".py",
   "mimetype": "text/x-python",
   "name": "python",
   "nbconvert_exporter": "python",
   "pygments_lexer": "ipython3",
   "version": "3.9.7"
  }
 },
 "nbformat": 4,
 "nbformat_minor": 5
}
