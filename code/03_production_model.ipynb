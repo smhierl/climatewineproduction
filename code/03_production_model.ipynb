{
 "cells": [
  {
   "cell_type": "code",
   "execution_count": 23,
   "id": "bc6c2c3e",
   "metadata": {},
   "outputs": [],
   "source": [
    "import pandas as pd\n",
    "import numpy as np\n",
    "import matplotlib.pyplot as plt\n",
    "import seaborn as sns\n",
    "\n",
    "\n",
    "from sklearn import metrics\n",
    "from sklearn.preprocessing import StandardScaler,PolynomialFeatures\n",
    "from sklearn.model_selection import train_test_split,cross_val_score,GridSearchCV\n",
    "from sklearn.linear_model import LinearRegression\n",
    "from sklearn.neighbors import KNeighborsRegressor\n",
    "from sklearn.ensemble import RandomForestRegressor,AdaBoostRegressor,GradientBoostingRegressor\n"
   ]
  },
  {
   "cell_type": "code",
   "execution_count": 24,
   "id": "0e48b36d",
   "metadata": {},
   "outputs": [],
   "source": [
    "df=pd.read_csv('../datasets/final_merged_data.csv')"
   ]
  },
  {
   "cell_type": "code",
   "execution_count": 25,
   "id": "a1512a3f",
   "metadata": {},
   "outputs": [
    {
     "data": {
      "text/plain": [
       "Index(['year', 'county code', 'county', 'harvested acres', 'yield',\n",
       "       'production', 'price p/u', 'value', 'annual_precip', 'annual_tavg',\n",
       "       'annual_tmin', 'annual_tmax', 'annual_var', 'season_precip',\n",
       "       'season_tavg', 'season_tmin', 'season_tmax', 'season_var'],\n",
       "      dtype='object')"
      ]
     },
     "execution_count": 25,
     "metadata": {},
     "output_type": "execute_result"
    }
   ],
   "source": [
    "df.columns"
   ]
  },
  {
   "cell_type": "code",
   "execution_count": 26,
   "id": "327898c6",
   "metadata": {},
   "outputs": [],
   "source": [
    "# Move to EDA / Feature Engineering notebook:\n",
    "df=pd.get_dummies(df, columns=['county'], drop_first=True)"
   ]
  },
  {
   "cell_type": "markdown",
   "id": "9c43db06",
   "metadata": {},
   "source": [
    "# Model Setup"
   ]
  },
  {
   "cell_type": "code",
   "execution_count": 27,
   "id": "318a103c",
   "metadata": {},
   "outputs": [
    {
     "data": {
      "text/plain": [
       "['annual_tmax',\n",
       " 'season_tavg',\n",
       " 'annual_precip',\n",
       " 'annual_tavg',\n",
       " 'annual_tmin',\n",
       " 'county_Madera',\n",
       " 'county_Monterey',\n",
       " 'county_Napa',\n",
       " 'county_Sacramento',\n",
       " 'county_San Joaquin',\n",
       " 'county_San Luis Obispo',\n",
       " 'county_Santa Barbara',\n",
       " 'county_Sonoma',\n",
       " 'county_Yolo']"
      ]
     },
     "execution_count": 27,
     "metadata": {},
     "output_type": "execute_result"
    }
   ],
   "source": [
    "# Start with climate features to include\n",
    "features=['annual_tmax','season_tavg','annual_precip','annual_tavg','annual_tmin']\n",
    "\n",
    "# Add in dummy columns\n",
    "for col in df.columns:\n",
    "    if col.startswith('county_'):\n",
    "        features.append(col)\n",
    "\n",
    "features"
   ]
  },
  {
   "cell_type": "code",
   "execution_count": 28,
   "id": "06043948",
   "metadata": {},
   "outputs": [
    {
     "data": {
      "text/plain": [
       "['annual_tmax',\n",
       " 'season_tavg',\n",
       " 'annual_precip',\n",
       " 'annual_tavg',\n",
       " 'annual_tmin',\n",
       " 'county_Madera',\n",
       " 'county_Monterey',\n",
       " 'county_Napa',\n",
       " 'county_Sacramento',\n",
       " 'county_San Joaquin',\n",
       " 'county_San Luis Obispo',\n",
       " 'county_Santa Barbara',\n",
       " 'county_Sonoma',\n",
       " 'county_Yolo']"
      ]
     },
     "execution_count": 28,
     "metadata": {},
     "output_type": "execute_result"
    }
   ],
   "source": [
    "list(features)"
   ]
  },
  {
   "cell_type": "code",
   "execution_count": 29,
   "id": "c7ab9dc1",
   "metadata": {},
   "outputs": [],
   "source": [
    "# Define X and y\n",
    "X=df[features]\n",
    "y=df['yield']"
   ]
  },
  {
   "cell_type": "code",
   "execution_count": 30,
   "id": "bee542a5",
   "metadata": {},
   "outputs": [],
   "source": [
    "# Train test split\n",
    "X_train,X_test,y_train,y_test=train_test_split(X,y,random_state=42)"
   ]
  },
  {
   "cell_type": "code",
   "execution_count": 31,
   "id": "e25a1791",
   "metadata": {},
   "outputs": [],
   "source": [
    "# Scale data (to be used as needed)\n",
    "ss=StandardScaler()\n",
    "X_train_sc=ss.fit_transform(X_train)\n",
    "X_test_sc=ss.transform(X_test)"
   ]
  },
  {
   "cell_type": "markdown",
   "id": "7a3cb490",
   "metadata": {},
   "source": [
    "# Model Selection"
   ]
  },
  {
   "cell_type": "markdown",
   "id": "063ca117",
   "metadata": {},
   "source": [
    "We will evaluate the performance of the following models:\n",
    "> I. Linear Regression <br>\n",
    "> II. K-Nearest Neighbors <br>\n",
    "> III. Random Forest <br>\n",
    "> IV. AdaBoost <br>\n",
    "> V. GradientBoost"
   ]
  },
  {
   "cell_type": "markdown",
   "id": "b41b2a9a",
   "metadata": {},
   "source": [
    "### i. Linear Regression"
   ]
  },
  {
   "cell_type": "code",
   "execution_count": 32,
   "id": "6796b84b",
   "metadata": {},
   "outputs": [
    {
     "name": "stdout",
     "output_type": "stream",
     "text": [
      "Linear Regression Cross Val Score: 0.8482443771217826.\n",
      "Linear Regression Train Score: 0.8844521273732713.\n",
      "Linear Regression Test Score: 0.8868050097500645.\n"
     ]
    }
   ],
   "source": [
    "# Non scaled data\n",
    "lr=LinearRegression()\n",
    "lr.fit(X_train,y_train)\n",
    "\n",
    "cv_score=cross_val_score(lr,X_train,y_train).mean()\n",
    "train_score=lr.score(X_train,y_train)\n",
    "test_score=lr.score(X_test,y_test)\n",
    "\n",
    "print(f'Linear Regression Cross Val Score: {cv_score}.')\n",
    "print(f'Linear Regression Train Score: {train_score}.')\n",
    "print(f'Linear Regression Test Score: {test_score}.')"
   ]
  },
  {
   "cell_type": "code",
   "execution_count": 33,
   "id": "8ca4bead",
   "metadata": {
    "scrolled": true
   },
   "outputs": [
    {
     "name": "stdout",
     "output_type": "stream",
     "text": [
      "Linear Regression Cross Val Score: 0.848244377121782.\n",
      "Linear Regression Train Score: 0.8844521273732713.\n",
      "Linear Regression Test Score: 0.8868050097500642.\n"
     ]
    }
   ],
   "source": [
    "# Scaled Data\n",
    "lr=LinearRegression()\n",
    "lr.fit(X_train_sc,y_train)\n",
    "\n",
    "cv_score=cross_val_score(lr,X_train_sc,y_train).mean()\n",
    "train_score=lr.score(X_train_sc,y_train)\n",
    "test_score=lr.score(X_test_sc,y_test)\n",
    "\n",
    "print(f'Linear Regression Cross Val Score: {cv_score}.')\n",
    "print(f'Linear Regression Train Score: {train_score}.')\n",
    "print(f'Linear Regression Test Score: {test_score}.')"
   ]
  },
  {
   "cell_type": "markdown",
   "id": "94d4dc86",
   "metadata": {},
   "source": [
    "### ii. K-Nearest Neighbors"
   ]
  },
  {
   "cell_type": "code",
   "execution_count": 34,
   "id": "0c4f7af6",
   "metadata": {},
   "outputs": [
    {
     "name": "stdout",
     "output_type": "stream",
     "text": [
      "KNN Cross Val Score: 0.8303316525828542.\n",
      "KNN Train Score: 0.8916866451074688.\n",
      "KNN Test Score: 0.8692708859279467.\n"
     ]
    }
   ],
   "source": [
    "# Scaled data\n",
    "knn=KNeighborsRegressor()\n",
    "knn.fit(X_train_sc,y_train)\n",
    "\n",
    "cv_score=cross_val_score(knn,X_train_sc,y_train).mean()\n",
    "train_score=knn.score(X_train_sc,y_train)\n",
    "test_score=knn.score(X_test_sc,y_test)\n",
    "\n",
    "print(f'KNN Cross Val Score: {cv_score}.')\n",
    "print(f'KNN Train Score: {train_score}.')\n",
    "print(f'KNN Test Score: {test_score}.')"
   ]
  },
  {
   "cell_type": "markdown",
   "id": "a46b324b",
   "metadata": {},
   "source": [
    "### III. Random Forest"
   ]
  },
  {
   "cell_type": "code",
   "execution_count": 35,
   "id": "84515080",
   "metadata": {},
   "outputs": [
    {
     "name": "stdout",
     "output_type": "stream",
     "text": [
      "Random Forest Cross Val Score: 0.6863895206137414.\n",
      "Random Forest Train Score: 0.9598728899081735.\n",
      "Random Forest Test Score: 0.3811663783511605.\n"
     ]
    }
   ],
   "source": [
    "# Non scaled data\n",
    "rf=RandomForestRegressor()\n",
    "rf.fit(X_train,y_train)\n",
    "\n",
    "cv_score=cross_val_score(rf,X_train,y_train).mean()\n",
    "train_score=rf.score(X_train,y_train)\n",
    "test_score=rf.score(X_test,y_test)\n",
    "\n",
    "print(f'Random Forest Cross Val Score: {cv_score}.')\n",
    "print(f'Random Forest Train Score: {train_score}.')\n",
    "print(f'Random Forest Test Score: {test_score}.')"
   ]
  },
  {
   "cell_type": "code",
   "execution_count": 36,
   "id": "e30c68fe",
   "metadata": {},
   "outputs": [
    {
     "name": "stdout",
     "output_type": "stream",
     "text": [
      "Random Forest Cross Val Score: 0.6982458506205357.\n",
      "Random Forest Train Score: 0.9653930687784144.\n",
      "Random Forest Test Score: 0.40776954619819983.\n"
     ]
    }
   ],
   "source": [
    "# Scaled data\n",
    "rf=RandomForestRegressor()\n",
    "rf.fit(X_train_sc,y_train)\n",
    "\n",
    "cv_score=cross_val_score(rf,X_train_sc,y_train).mean()\n",
    "train_score=rf.score(X_train_sc,y_train)\n",
    "test_score=rf.score(X_test_sc,y_test)\n",
    "\n",
    "print(f'Random Forest Cross Val Score: {cv_score}.')\n",
    "print(f'Random Forest Train Score: {train_score}.')\n",
    "print(f'Random Forest Test Score: {test_score}.')"
   ]
  },
  {
   "cell_type": "markdown",
   "id": "34dbb492",
   "metadata": {},
   "source": [
    "### IV. AdaBoost"
   ]
  },
  {
   "cell_type": "code",
   "execution_count": 37,
   "id": "0b2bb391",
   "metadata": {},
   "outputs": [
    {
     "name": "stdout",
     "output_type": "stream",
     "text": [
      "AdaBoost Cross Val Score: 0.736351396087185.\n",
      "AdaBoost Train Score: 0.9109017137642503.\n",
      "AdaBoost Test Score: 0.5063240567109979.\n"
     ]
    }
   ],
   "source": [
    "# Non scaled data\n",
    "ada=AdaBoostRegressor()\n",
    "ada.fit(X_train,y_train)\n",
    "\n",
    "cv_score=cross_val_score(ada,X_train,y_train).mean()\n",
    "train_score=ada.score(X_train,y_train)\n",
    "test_score=ada.score(X_test,y_test)\n",
    "\n",
    "print(f'AdaBoost Cross Val Score: {cv_score}.')\n",
    "print(f'AdaBoost Train Score: {train_score}.')\n",
    "print(f'AdaBoost Test Score: {test_score}.')"
   ]
  },
  {
   "cell_type": "code",
   "execution_count": 38,
   "id": "0cfc45e8",
   "metadata": {},
   "outputs": [
    {
     "name": "stdout",
     "output_type": "stream",
     "text": [
      "AdaBoost Cross Val Score: 0.6938815454137732.\n",
      "AdaBoost Train Score: 0.9218318961081072.\n",
      "AdaBoost Test Score: 0.562250642187062.\n"
     ]
    }
   ],
   "source": [
    "# Scaled data\n",
    "ada=AdaBoostRegressor()\n",
    "ada.fit(X_train_sc,y_train)\n",
    "\n",
    "cv_score=cross_val_score(ada,X_train_sc,y_train).mean()\n",
    "train_score=ada.score(X_train_sc,y_train)\n",
    "test_score=ada.score(X_test_sc,y_test)\n",
    "\n",
    "print(f'AdaBoost Cross Val Score: {cv_score}.')\n",
    "print(f'AdaBoost Train Score: {train_score}.')\n",
    "print(f'AdaBoost Test Score: {test_score}.')"
   ]
  },
  {
   "cell_type": "markdown",
   "id": "f7ab34c4",
   "metadata": {},
   "source": [
    "### V. GradientBoost"
   ]
  },
  {
   "cell_type": "code",
   "execution_count": 39,
   "id": "4cc7c465",
   "metadata": {},
   "outputs": [
    {
     "name": "stdout",
     "output_type": "stream",
     "text": [
      "GradientBoost Cross Val Score: 0.6964036132470902.\n",
      "GradientBoost Train Score: 0.9861858851023199.\n",
      "GradientBoost Test Score: 0.42164930151418567.\n"
     ]
    }
   ],
   "source": [
    "# Non scaled data\n",
    "gb=GradientBoostingRegressor()\n",
    "gb.fit(X_train,y_train)\n",
    "\n",
    "cv_score=cross_val_score(gb,X_train,y_train).mean()\n",
    "train_score=gb.score(X_train,y_train)\n",
    "test_score=gb.score(X_test,y_test)\n",
    "\n",
    "print(f'GradientBoost Cross Val Score: {cv_score}.')\n",
    "print(f'GradientBoost Train Score: {train_score}.')\n",
    "print(f'GradientBoost Test Score: {test_score}.')"
   ]
  },
  {
   "cell_type": "code",
   "execution_count": 40,
   "id": "841967ce",
   "metadata": {},
   "outputs": [
    {
     "name": "stdout",
     "output_type": "stream",
     "text": [
      "GradientBoost Cross Val Score: 0.7098311627033598.\n",
      "GradientBoost Train Score: 0.9861858851023199.\n",
      "GradientBoost Test Score: 0.4427371657276268.\n"
     ]
    }
   ],
   "source": [
    "# Scaled data\n",
    "gb=GradientBoostingRegressor()\n",
    "gb.fit(X_train_sc,y_train)\n",
    "\n",
    "cv_score=cross_val_score(gb,X_train_sc,y_train).mean()\n",
    "train_score=gb.score(X_train_sc,y_train)\n",
    "test_score=gb.score(X_test_sc,y_test)\n",
    "\n",
    "print(f'GradientBoost Cross Val Score: {cv_score}.')\n",
    "print(f'GradientBoost Train Score: {train_score}.')\n",
    "print(f'GradientBoost Test Score: {test_score}.')"
   ]
  },
  {
   "cell_type": "markdown",
   "id": "078cdf68",
   "metadata": {},
   "source": [
    "### Results"
   ]
  },
  {
   "cell_type": "markdown",
   "id": "e58329cf",
   "metadata": {},
   "source": [
    "Based on the high performance across all three scores, we have determined Linear Regression to be the best model to proceed with. For interpretibility of results, and because there is minimal observed difference between running the model on the scaled and unscaled data, we will use unscaled data."
   ]
  },
  {
   "cell_type": "markdown",
   "id": "5262af8d",
   "metadata": {},
   "source": [
    "# Model Refinement"
   ]
  },
  {
   "cell_type": "code",
   "execution_count": 41,
   "id": "af25450b",
   "metadata": {
    "scrolled": true
   },
   "outputs": [
    {
     "name": "stdout",
     "output_type": "stream",
     "text": [
      "0.8482443771217826\n"
     ]
    },
    {
     "data": {
      "text/plain": [
       "{'fit_intercept': True, 'normalize': False}"
      ]
     },
     "execution_count": 41,
     "metadata": {},
     "output_type": "execute_result"
    }
   ],
   "source": [
    "# GridSearch to find best parameters\n",
    "params={\n",
    "    'fit_intercept':[True,False],\n",
    "    'normalize':[True,False],\n",
    "}\n",
    "\n",
    "gs=GridSearchCV(LinearRegression(),param_grid=params)\n",
    "gs.fit(X_train,y_train)\n",
    "print(gs.best_score_)\n",
    "gs.best_params_"
   ]
  },
  {
   "cell_type": "markdown",
   "id": "fa5d6515",
   "metadata": {},
   "source": [
    "Default parameters are determined to be the best parameters."
   ]
  },
  {
   "cell_type": "markdown",
   "id": "85ab9b74",
   "metadata": {},
   "source": [
    "# Production Model"
   ]
  },
  {
   "cell_type": "code",
   "execution_count": 42,
   "id": "2faed627",
   "metadata": {},
   "outputs": [
    {
     "data": {
      "text/plain": [
       "LinearRegression()"
      ]
     },
     "execution_count": 42,
     "metadata": {},
     "output_type": "execute_result"
    }
   ],
   "source": [
    "# Instantiate and fit model\n",
    "lr=LinearRegression()\n",
    "lr.fit(X_train,y_train)"
   ]
  },
  {
   "cell_type": "code",
   "execution_count": 43,
   "id": "070b23bb",
   "metadata": {},
   "outputs": [
    {
     "data": {
      "text/html": [
       "<div>\n",
       "<style scoped>\n",
       "    .dataframe tbody tr th:only-of-type {\n",
       "        vertical-align: middle;\n",
       "    }\n",
       "\n",
       "    .dataframe tbody tr th {\n",
       "        vertical-align: top;\n",
       "    }\n",
       "\n",
       "    .dataframe thead th {\n",
       "        text-align: right;\n",
       "    }\n",
       "</style>\n",
       "<table border=\"1\" class=\"dataframe\">\n",
       "  <thead>\n",
       "    <tr style=\"text-align: right;\">\n",
       "      <th></th>\n",
       "      <th>column</th>\n",
       "      <th>coef</th>\n",
       "    </tr>\n",
       "  </thead>\n",
       "  <tbody>\n",
       "    <tr>\n",
       "      <th>7</th>\n",
       "      <td>county_Napa</td>\n",
       "      <td>-8.253431</td>\n",
       "    </tr>\n",
       "    <tr>\n",
       "      <th>10</th>\n",
       "      <td>county_San Luis Obispo</td>\n",
       "      <td>-7.793579</td>\n",
       "    </tr>\n",
       "    <tr>\n",
       "      <th>11</th>\n",
       "      <td>county_Santa Barbara</td>\n",
       "      <td>-7.728613</td>\n",
       "    </tr>\n",
       "    <tr>\n",
       "      <th>12</th>\n",
       "      <td>county_Sonoma</td>\n",
       "      <td>-7.543616</td>\n",
       "    </tr>\n",
       "    <tr>\n",
       "      <th>6</th>\n",
       "      <td>county_Monterey</td>\n",
       "      <td>-7.517149</td>\n",
       "    </tr>\n",
       "    <tr>\n",
       "      <th>9</th>\n",
       "      <td>county_San Joaquin</td>\n",
       "      <td>-5.122328</td>\n",
       "    </tr>\n",
       "    <tr>\n",
       "      <th>13</th>\n",
       "      <td>county_Yolo</td>\n",
       "      <td>-4.792131</td>\n",
       "    </tr>\n",
       "    <tr>\n",
       "      <th>8</th>\n",
       "      <td>county_Sacramento</td>\n",
       "      <td>-4.408429</td>\n",
       "    </tr>\n",
       "    <tr>\n",
       "      <th>5</th>\n",
       "      <td>county_Madera</td>\n",
       "      <td>-1.179247</td>\n",
       "    </tr>\n",
       "    <tr>\n",
       "      <th>1</th>\n",
       "      <td>season_tavg</td>\n",
       "      <td>-0.183688</td>\n",
       "    </tr>\n",
       "    <tr>\n",
       "      <th>4</th>\n",
       "      <td>annual_tmin</td>\n",
       "      <td>-0.016344</td>\n",
       "    </tr>\n",
       "    <tr>\n",
       "      <th>2</th>\n",
       "      <td>annual_precip</td>\n",
       "      <td>0.005734</td>\n",
       "    </tr>\n",
       "    <tr>\n",
       "      <th>0</th>\n",
       "      <td>annual_tmax</td>\n",
       "      <td>0.061347</td>\n",
       "    </tr>\n",
       "    <tr>\n",
       "      <th>3</th>\n",
       "      <td>annual_tavg</td>\n",
       "      <td>0.178880</td>\n",
       "    </tr>\n",
       "  </tbody>\n",
       "</table>\n",
       "</div>"
      ],
      "text/plain": [
       "                    column      coef\n",
       "7              county_Napa -8.253431\n",
       "10  county_San Luis Obispo -7.793579\n",
       "11    county_Santa Barbara -7.728613\n",
       "12           county_Sonoma -7.543616\n",
       "6          county_Monterey -7.517149\n",
       "9       county_San Joaquin -5.122328\n",
       "13             county_Yolo -4.792131\n",
       "8        county_Sacramento -4.408429\n",
       "5            county_Madera -1.179247\n",
       "1              season_tavg -0.183688\n",
       "4              annual_tmin -0.016344\n",
       "2            annual_precip  0.005734\n",
       "0              annual_tmax  0.061347\n",
       "3              annual_tavg  0.178880"
      ]
     },
     "execution_count": 43,
     "metadata": {},
     "output_type": "execute_result"
    }
   ],
   "source": [
    "coef_df=pd.DataFrame({\"column\":X.columns, \"coef\":lr.coef_})\n",
    "coef_df=coef_df.sort_values(\"coef\")\n",
    "coef_df"
   ]
  },
  {
   "cell_type": "code",
   "execution_count": 44,
   "id": "90c5abd8",
   "metadata": {},
   "outputs": [],
   "source": [
    "plt.rcParams['figure.figsize'] = (10, 10)"
   ]
  },
  {
   "cell_type": "code",
   "execution_count": 45,
   "id": "0cf44067",
   "metadata": {
    "scrolled": true
   },
   "outputs": [
    {
     "data": {
      "image/png": "[encoded data removed]",
      "text/plain": [
       "<Figure size 720x720 with 1 Axes>"
      ]
     },
     "metadata": {
      "needs_background": "light"
     },
     "output_type": "display_data"
    }
   ],
   "source": [
    "plt.barh(coef_df[\"column\"],coef_df[\"coef\"],color=\"lightblue\")\n",
    "plt.title('Coefficients of Linear Regression Model')\n",
    "plt.xlabel('Coefficient Value');"
   ]
  },
  {
   "cell_type": "markdown",
   "id": "12779814",
   "metadata": {},
   "source": [
    "#### Performance on Test Data"
   ]
  },
  {
   "cell_type": "code",
   "execution_count": 46,
   "id": "a573963b",
   "metadata": {},
   "outputs": [
    {
     "data": {
      "image/png": "[encoded data removed]",
      "text/plain": [
       "<Figure size 720x720 with 1 Axes>"
      ]
     },
     "metadata": {
      "needs_background": "light"
     },
     "output_type": "display_data"
    }
   ],
   "source": [
    "plt.scatter(y_train,lr.predict(X_train),color='lightblue')\n",
    "plt.title('Actual vs Predicted Yield for Train Data')\n",
    "plt.xlabel('Actual Yield')\n",
    "plt.ylabel('Predicted Yield');"
   ]
  },
  {
   "cell_type": "code",
   "execution_count": 47,
   "id": "7b9d27b0",
   "metadata": {},
   "outputs": [
    {
     "data": {
      "image/png": "[encoded data removed]",
      "text/plain": [
       "<Figure size 720x720 with 1 Axes>"
      ]
     },
     "metadata": {
      "needs_background": "light"
     },
     "output_type": "display_data"
    }
   ],
   "source": [
    "residuals=y_train-lr.predict(X_train)\n",
    "\n",
    "plt.scatter(lr.predict(X_train),residuals,color='lightblue')\n",
    "plt.title('Predicted Value vs Residuals for Train Data')\n",
    "plt.xlabel('Actual Yield')\n",
    "plt.ylabel('Predicted Yield')\n",
    "plt.axhline(0,color=\"gold\");"
   ]
  },
  {
   "cell_type": "markdown",
   "id": "7ffab39e",
   "metadata": {},
   "source": [
    "#### Performance on Test Data"
   ]
  },
  {
   "cell_type": "code",
   "execution_count": 48,
   "id": "da469786",
   "metadata": {},
   "outputs": [
    {
     "data": {
      "image/png": "[encoded data removed]",
      "text/plain": [
       "<Figure size 720x720 with 1 Axes>"
      ]
     },
     "metadata": {
      "needs_background": "light"
     },
     "output_type": "display_data"
    }
   ],
   "source": [
    "plt.scatter(y_test,lr.predict(X_test),color='lightblue')\n",
    "plt.title('Actual vs Predicted Yield for Test Data')\n",
    "plt.xlabel('Actual Yield')\n",
    "plt.ylabel('Predicted Yield');"
   ]
  },
  {
   "cell_type": "code",
   "execution_count": 49,
   "id": "e6b83f86",
   "metadata": {},
   "outputs": [
    {
     "data": {
      "image/png": "[encoded data removed]",
      "text/plain": [
       "<Figure size 720x720 with 1 Axes>"
      ]
     },
     "metadata": {
      "needs_background": "light"
     },
     "output_type": "display_data"
    }
   ],
   "source": [
    "residuals=y_train-lr.predict(X_train)\n",
    "\n",
    "plt.scatter(lr.predict(X_train),residuals,color='lightblue')\n",
    "plt.title('Predicted Value vs Residuals for Test Data')\n",
    "plt.xlabel('Actual Yield')\n",
    "plt.ylabel('Predicted Yield')\n",
    "plt.axhline(0,color=\"gold\");"
   ]
  },
  {
   "cell_type": "code",
   "execution_count": null,
   "id": "beaae3fa",
   "metadata": {},
   "outputs": [],
   "source": []
  }
 ],
 "metadata": {
  "kernelspec": {
   "display_name": "Python 3 (ipykernel)",
   "language": "python",
   "name": "python3"
  },
  "language_info": {
   "codemirror_mode": {
    "name": "ipython",
    "version": 3
   },
   "file_extension": ".py",
   "mimetype": "text/x-python",
   "name": "python",
   "nbconvert_exporter": "python",
   "pygments_lexer": "ipython3",
   "version": "3.9.7"
  }
 },
 "nbformat": 4,
 "nbformat_minor": 5
}
