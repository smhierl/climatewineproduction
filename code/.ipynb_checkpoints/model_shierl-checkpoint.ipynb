{
 "cells": [
  {
   "cell_type": "code",
   "execution_count": 1,
   "id": "bc6c2c3e",
   "metadata": {},
   "outputs": [],
   "source": [
    "import pandas as pd\n",
    "import numpy as np\n",
    "import matplotlib.pyplot as plt\n",
    "import seaborn as sns\n",
    "\n",
    "\n",
    "from sklearn import metrics\n",
    "from sklearn.preprocessing import StandardScaler\n",
    "from sklearn.model_selection import train_test_split,cross_val_score\n",
    "from sklearn.linear_model import LinearRegression\n",
    "from sklearn.neighbors import KNeighborsRegressor\n",
    "from sklearn.ensemble import RandomForestRegressor,AdaBoostRegressor\n"
   ]
  },
  {
   "cell_type": "code",
   "execution_count": 2,
   "id": "0e48b36d",
   "metadata": {},
   "outputs": [],
   "source": [
    "df=pd.read_csv('../datasets/final_merged_data.csv')"
   ]
  },
  {
   "cell_type": "markdown",
   "id": "9ad58af7",
   "metadata": {},
   "source": [
    "## Testing Seasonal Variables"
   ]
  },
  {
   "cell_type": "code",
   "execution_count": 6,
   "id": "488ac856",
   "metadata": {},
   "outputs": [],
   "source": [
    "features=['season_var','season_tmax','season_tavg','season_precip','season_tmin']\n",
    "X=df[features]\n",
    "y=df['yield']"
   ]
  },
  {
   "cell_type": "code",
   "execution_count": 7,
   "id": "a74a9bd0",
   "metadata": {},
   "outputs": [],
   "source": [
    "X_train,X_test,y_train,y_test=train_test_split(X,y,random_state=42)"
   ]
  },
  {
   "cell_type": "code",
   "execution_count": 8,
   "id": "96ba0f3c",
   "metadata": {},
   "outputs": [],
   "source": [
    "ss=StandardScaler()\n",
    "ss.fit(X_train)\n",
    "X_train_sc=ss.transform(X_train)\n",
    "X_test_sc=ss.transform(X_test)"
   ]
  },
  {
   "cell_type": "markdown",
   "id": "127fcd5b",
   "metadata": {},
   "source": [
    "#### Linear Regression"
   ]
  },
  {
   "cell_type": "code",
   "execution_count": 9,
   "id": "c26cd3a2",
   "metadata": {},
   "outputs": [
    {
     "name": "stdout",
     "output_type": "stream",
     "text": [
      "Linear Regression Cross Val Score: 0.5015345612872876.\n",
      "Linear Regression Train Score: 0.5548197687267915.\n",
      "Linear Regression Test Score: 0.6069095921153396.\n"
     ]
    }
   ],
   "source": [
    "# Non scaled data\n",
    "lr=LinearRegression()\n",
    "lr.fit(X_train,y_train)\n",
    "\n",
    "cv_score=cross_val_score(lr,X_train,y_train).mean()\n",
    "train_score=lr.score(X_train,y_train)\n",
    "test_score=lr.score(X_test,y_test)\n",
    "\n",
    "print(f'Linear Regression Cross Val Score: {cv_score}.')\n",
    "print(f'Linear Regression Train Score: {train_score}.')\n",
    "print(f'Linear Regression Test Score: {test_score}.')"
   ]
  },
  {
   "cell_type": "code",
   "execution_count": 10,
   "id": "fd5aa1cc",
   "metadata": {},
   "outputs": [
    {
     "name": "stdout",
     "output_type": "stream",
     "text": [
      "Linear Regression Cross Val Score: 0.5015345612872878.\n",
      "Linear Regression Train Score: 0.5548197687267917.\n",
      "Linear Regression Test Score: 0.60690959211534.\n"
     ]
    }
   ],
   "source": [
    "# Scaled data\n",
    "lr=LinearRegression()\n",
    "lr.fit(X_train_sc,y_train)\n",
    "\n",
    "cv_score=cross_val_score(lr,X_train_sc,y_train).mean()\n",
    "train_score=lr.score(X_train_sc,y_train)\n",
    "test_score=lr.score(X_test_sc,y_test)\n",
    "\n",
    "print(f'Linear Regression Cross Val Score: {cv_score}.')\n",
    "print(f'Linear Regression Train Score: {train_score}.')\n",
    "print(f'Linear Regression Test Score: {test_score}.')"
   ]
  },
  {
   "cell_type": "markdown",
   "id": "b8bfe8e3",
   "metadata": {},
   "source": [
    "#### KNN"
   ]
  },
  {
   "cell_type": "code",
   "execution_count": 11,
   "id": "bf170d1c",
   "metadata": {},
   "outputs": [
    {
     "name": "stdout",
     "output_type": "stream",
     "text": [
      "KNN Cross Val Score: 0.6338470907884661.\n",
      "KNN Train Score: 0.7962225123717905.\n",
      "KNN Test Score: 0.7638996310477819.\n"
     ]
    }
   ],
   "source": [
    "knn=KNeighborsRegressor()\n",
    "knn.fit(X_train_sc,y_train)\n",
    "\n",
    "cv_score=cross_val_score(knn,X_train_sc,y_train).mean()\n",
    "train_score=knn.score(X_train_sc,y_train)\n",
    "test_score=knn.score(X_test_sc,y_test)\n",
    "\n",
    "print(f'KNN Cross Val Score: {cv_score}.')\n",
    "print(f'KNN Train Score: {train_score}.')\n",
    "print(f'KNN Test Score: {test_score}.')"
   ]
  },
  {
   "cell_type": "markdown",
   "id": "79a6541a",
   "metadata": {},
   "source": [
    "#### Random Forest"
   ]
  },
  {
   "cell_type": "code",
   "execution_count": 12,
   "id": "a94880a8",
   "metadata": {
    "scrolled": true
   },
   "outputs": [
    {
     "name": "stdout",
     "output_type": "stream",
     "text": [
      "Random Forest Cross Val Score: 0.6212694850555656.\n",
      "Random Forest Train Score: 0.9514934831407964.\n",
      "Random Forest Test Score: 0.7271234138127234.\n"
     ]
    }
   ],
   "source": [
    "rf=RandomForestRegressor()\n",
    "rf.fit(X_train,y_train)\n",
    "\n",
    "cv_score=cross_val_score(rf,X_train,y_train).mean()\n",
    "train_score=rf.score(X_train,y_train)\n",
    "test_score=rf.score(X_test,y_test)\n",
    "\n",
    "print(f'Random Forest Cross Val Score: {cv_score}.')\n",
    "print(f'Random Forest Train Score: {train_score}.')\n",
    "print(f'Random Forest Test Score: {test_score}.')"
   ]
  },
  {
   "cell_type": "markdown",
   "id": "1415473d",
   "metadata": {},
   "source": [
    "#### Adaboost"
   ]
  },
  {
   "cell_type": "code",
   "execution_count": 13,
   "id": "4b695fc6",
   "metadata": {},
   "outputs": [
    {
     "name": "stdout",
     "output_type": "stream",
     "text": [
      "Adaboost Cross Val Score: 0.6519881983709063.\n",
      "Adaboost Train Score: 0.8993498590099491.\n",
      "Adaboost Test Score: 0.7921838285043102.\n"
     ]
    }
   ],
   "source": [
    "# Non scaled data\n",
    "ada=AdaBoostRegressor()\n",
    "ada.fit(X_train,y_train)\n",
    "\n",
    "cv_score=cross_val_score(ada,X_train,y_train).mean()\n",
    "train_score=ada.score(X_train,y_train)\n",
    "test_score=ada.score(X_test,y_test)\n",
    "\n",
    "print(f'Adaboost Cross Val Score: {cv_score}.')\n",
    "print(f'Adaboost Train Score: {train_score}.')\n",
    "print(f'Adaboost Test Score: {test_score}.')"
   ]
  },
  {
   "cell_type": "code",
   "execution_count": 14,
   "id": "8900ffd0",
   "metadata": {},
   "outputs": [
    {
     "name": "stdout",
     "output_type": "stream",
     "text": [
      "Adaboost Cross Val Score: 0.6884446030871729.\n",
      "Adaboost Train Score: 0.9074217947260853.\n",
      "Adaboost Test Score: 0.7898113642090064.\n"
     ]
    }
   ],
   "source": [
    "# Scaled data\n",
    "ada=AdaBoostRegressor()\n",
    "ada.fit(X_train_sc,y_train)\n",
    "\n",
    "cv_score=cross_val_score(ada,X_train_sc,y_train).mean()\n",
    "train_score=ada.score(X_train_sc,y_train)\n",
    "test_score=ada.score(X_test_sc,y_test)\n",
    "\n",
    "print(f'Adaboost Cross Val Score: {cv_score}.')\n",
    "print(f'Adaboost Train Score: {train_score}.')\n",
    "print(f'Adaboost Test Score: {test_score}.')"
   ]
  },
  {
   "cell_type": "markdown",
   "id": "df626c02",
   "metadata": {},
   "source": [
    "## Annual Variables"
   ]
  },
  {
   "cell_type": "code",
   "execution_count": 15,
   "id": "b47ab31d",
   "metadata": {},
   "outputs": [],
   "source": [
    "features=['annual_var','annual_tmax','season_precip','annual_tavg','annual_tmin']\n",
    "X=df[features]\n",
    "y=df['yield']"
   ]
  },
  {
   "cell_type": "code",
   "execution_count": 16,
   "id": "9c2d7723",
   "metadata": {},
   "outputs": [],
   "source": [
    "X_train,X_test,y_train,y_test=train_test_split(X,y,random_state=42)"
   ]
  },
  {
   "cell_type": "code",
   "execution_count": 17,
   "id": "f1a52450",
   "metadata": {},
   "outputs": [],
   "source": [
    "ss=StandardScaler()\n",
    "ss.fit(X_train)\n",
    "X_train_sc=ss.transform(X_train)\n",
    "X_test_sc=ss.transform(X_test)"
   ]
  },
  {
   "cell_type": "markdown",
   "id": "1a1998dc",
   "metadata": {},
   "source": [
    "#### Linear Regression"
   ]
  },
  {
   "cell_type": "code",
   "execution_count": 18,
   "id": "f209f465",
   "metadata": {},
   "outputs": [
    {
     "name": "stdout",
     "output_type": "stream",
     "text": [
      "Linear Regression Cross Val Score: 0.5603893312744276.\n",
      "Linear Regression Train Score: 0.6045624743537759.\n",
      "Linear Regression Test Score: 0.5441176194359933.\n"
     ]
    }
   ],
   "source": [
    "# Non scaled data\n",
    "lr=LinearRegression()\n",
    "lr.fit(X_train,y_train)\n",
    "\n",
    "cv_score=cross_val_score(lr,X_train,y_train).mean()\n",
    "train_score=lr.score(X_train,y_train)\n",
    "test_score=lr.score(X_test,y_test)\n",
    "\n",
    "print(f'Linear Regression Cross Val Score: {cv_score}.')\n",
    "print(f'Linear Regression Train Score: {train_score}.')\n",
    "print(f'Linear Regression Test Score: {test_score}.')"
   ]
  },
  {
   "cell_type": "code",
   "execution_count": 19,
   "id": "820f967f",
   "metadata": {},
   "outputs": [
    {
     "name": "stdout",
     "output_type": "stream",
     "text": [
      "Linear Regression Cross Val Score: 0.5603893312744274.\n",
      "Linear Regression Train Score: 0.6045624743537759.\n",
      "Linear Regression Test Score: 0.5441176194359933.\n"
     ]
    }
   ],
   "source": [
    "# Scaled data\n",
    "lr=LinearRegression()\n",
    "lr.fit(X_train_sc,y_train)\n",
    "\n",
    "cv_score=cross_val_score(lr,X_train_sc,y_train).mean()\n",
    "train_score=lr.score(X_train_sc,y_train)\n",
    "test_score=lr.score(X_test_sc,y_test)\n",
    "\n",
    "print(f'Linear Regression Cross Val Score: {cv_score}.')\n",
    "print(f'Linear Regression Train Score: {train_score}.')\n",
    "print(f'Linear Regression Test Score: {test_score}.')"
   ]
  },
  {
   "cell_type": "markdown",
   "id": "0568ae3d",
   "metadata": {},
   "source": [
    "#### KNN"
   ]
  },
  {
   "cell_type": "code",
   "execution_count": 20,
   "id": "0e6b0d5b",
   "metadata": {},
   "outputs": [
    {
     "name": "stdout",
     "output_type": "stream",
     "text": [
      "KNN Cross Val Score: 0.7954383866258506.\n",
      "KNN Train Score: 0.8812308113834669.\n",
      "KNN Test Score: 0.7433582599379942.\n"
     ]
    }
   ],
   "source": [
    "knn=KNeighborsRegressor()\n",
    "knn.fit(X_train_sc,y_train)\n",
    "\n",
    "cv_score=cross_val_score(knn,X_train_sc,y_train).mean()\n",
    "train_score=knn.score(X_train_sc,y_train)\n",
    "test_score=knn.score(X_test_sc,y_test)\n",
    "\n",
    "print(f'KNN Cross Val Score: {cv_score}.')\n",
    "print(f'KNN Train Score: {train_score}.')\n",
    "print(f'KNN Test Score: {test_score}.')"
   ]
  },
  {
   "cell_type": "markdown",
   "id": "beadecc2",
   "metadata": {},
   "source": [
    "#### Random Forest"
   ]
  },
  {
   "cell_type": "code",
   "execution_count": 21,
   "id": "4ce2f341",
   "metadata": {
    "scrolled": true
   },
   "outputs": [
    {
     "name": "stdout",
     "output_type": "stream",
     "text": [
      "Random Forest Cross Val Score: 0.718523466006648.\n",
      "Random Forest Train Score: 0.963314186380557.\n",
      "Random Forest Test Score: 0.7162077891843764.\n"
     ]
    }
   ],
   "source": [
    "rf=RandomForestRegressor()\n",
    "rf.fit(X_train,y_train)\n",
    "\n",
    "cv_score=cross_val_score(rf,X_train,y_train).mean()\n",
    "train_score=rf.score(X_train,y_train)\n",
    "test_score=rf.score(X_test,y_test)\n",
    "\n",
    "print(f'Random Forest Cross Val Score: {cv_score}.')\n",
    "print(f'Random Forest Train Score: {train_score}.')\n",
    "print(f'Random Forest Test Score: {test_score}.')"
   ]
  },
  {
   "cell_type": "markdown",
   "id": "cf7e010f",
   "metadata": {},
   "source": [
    "#### Adaboost"
   ]
  },
  {
   "cell_type": "code",
   "execution_count": 22,
   "id": "4ff0ae65",
   "metadata": {},
   "outputs": [
    {
     "name": "stdout",
     "output_type": "stream",
     "text": [
      "Adaboost Cross Val Score: 0.7404820198037253.\n",
      "Adaboost Train Score: 0.9065554119762514.\n",
      "Adaboost Test Score: 0.6432409222058195.\n"
     ]
    }
   ],
   "source": [
    "# Non scaled data\n",
    "ada=AdaBoostRegressor()\n",
    "ada.fit(X_train,y_train)\n",
    "\n",
    "cv_score=cross_val_score(ada,X_train,y_train).mean()\n",
    "train_score=ada.score(X_train,y_train)\n",
    "test_score=ada.score(X_test,y_test)\n",
    "\n",
    "print(f'Adaboost Cross Val Score: {cv_score}.')\n",
    "print(f'Adaboost Train Score: {train_score}.')\n",
    "print(f'Adaboost Test Score: {test_score}.')"
   ]
  },
  {
   "cell_type": "code",
   "execution_count": 23,
   "id": "05066913",
   "metadata": {},
   "outputs": [
    {
     "name": "stdout",
     "output_type": "stream",
     "text": [
      "Adaboost Cross Val Score: 0.7392700720940517.\n",
      "Adaboost Train Score: 0.9117720967585925.\n",
      "Adaboost Test Score: 0.6892117687225972.\n"
     ]
    }
   ],
   "source": [
    "# Scaled data\n",
    "ada=AdaBoostRegressor()\n",
    "ada.fit(X_train_sc,y_train)\n",
    "\n",
    "cv_score=cross_val_score(ada,X_train_sc,y_train).mean()\n",
    "train_score=ada.score(X_train_sc,y_train)\n",
    "test_score=ada.score(X_test_sc,y_test)\n",
    "\n",
    "print(f'Adaboost Cross Val Score: {cv_score}.')\n",
    "print(f'Adaboost Train Score: {train_score}.')\n",
    "print(f'Adaboost Test Score: {test_score}.')"
   ]
  },
  {
   "cell_type": "code",
   "execution_count": null,
   "id": "80d1a948",
   "metadata": {},
   "outputs": [],
   "source": []
  },
  {
   "cell_type": "markdown",
   "id": "b60037d8",
   "metadata": {},
   "source": [
    "## All Variables"
   ]
  },
  {
   "cell_type": "code",
   "execution_count": 24,
   "id": "9a518dc2",
   "metadata": {},
   "outputs": [],
   "source": [
    "features=['annual_var','annual_tmax','season_precip','annual_tavg','annual_tmin','season_var','season_tmax','season_tavg','season_precip','season_tmin']\n",
    "X=df[features]\n",
    "y=df['yield']"
   ]
  },
  {
   "cell_type": "code",
   "execution_count": 25,
   "id": "3111017f",
   "metadata": {},
   "outputs": [],
   "source": [
    "X_train,X_test,y_train,y_test=train_test_split(X,y,random_state=42)"
   ]
  },
  {
   "cell_type": "code",
   "execution_count": 26,
   "id": "71312ffc",
   "metadata": {},
   "outputs": [],
   "source": [
    "ss=StandardScaler()\n",
    "ss.fit(X_train)\n",
    "X_train_sc=ss.transform(X_train)\n",
    "X_test_sc=ss.transform(X_test)"
   ]
  },
  {
   "cell_type": "markdown",
   "id": "0045bbbb",
   "metadata": {},
   "source": [
    "#### Linear Regression"
   ]
  },
  {
   "cell_type": "code",
   "execution_count": 27,
   "id": "ec237744",
   "metadata": {},
   "outputs": [
    {
     "name": "stdout",
     "output_type": "stream",
     "text": [
      "Linear Regression Cross Val Score: 0.702692980822067.\n",
      "Linear Regression Train Score: 0.7417912620548012.\n",
      "Linear Regression Test Score: 0.7546505889284679.\n"
     ]
    }
   ],
   "source": [
    "# Non scaled data\n",
    "lr=LinearRegression()\n",
    "lr.fit(X_train,y_train)\n",
    "\n",
    "cv_score=cross_val_score(lr,X_train,y_train).mean()\n",
    "train_score=lr.score(X_train,y_train)\n",
    "test_score=lr.score(X_test,y_test)\n",
    "\n",
    "print(f'Linear Regression Cross Val Score: {cv_score}.')\n",
    "print(f'Linear Regression Train Score: {train_score}.')\n",
    "print(f'Linear Regression Test Score: {test_score}.')"
   ]
  },
  {
   "cell_type": "code",
   "execution_count": 28,
   "id": "b1fe2c25",
   "metadata": {},
   "outputs": [
    {
     "name": "stdout",
     "output_type": "stream",
     "text": [
      "Linear Regression Cross Val Score: 0.7026929808220682.\n",
      "Linear Regression Train Score: 0.7417912620548013.\n",
      "Linear Regression Test Score: 0.7546505889284676.\n"
     ]
    }
   ],
   "source": [
    "# Scaled data\n",
    "lr=LinearRegression()\n",
    "lr.fit(X_train_sc,y_train)\n",
    "\n",
    "cv_score=cross_val_score(lr,X_train_sc,y_train).mean()\n",
    "train_score=lr.score(X_train_sc,y_train)\n",
    "test_score=lr.score(X_test_sc,y_test)\n",
    "\n",
    "print(f'Linear Regression Cross Val Score: {cv_score}.')\n",
    "print(f'Linear Regression Train Score: {train_score}.')\n",
    "print(f'Linear Regression Test Score: {test_score}.')"
   ]
  },
  {
   "cell_type": "markdown",
   "id": "2d0b36a3",
   "metadata": {},
   "source": [
    "#### KNN"
   ]
  },
  {
   "cell_type": "code",
   "execution_count": 29,
   "id": "3b2e40c2",
   "metadata": {},
   "outputs": [
    {
     "name": "stdout",
     "output_type": "stream",
     "text": [
      "KNN Cross Val Score: 0.8072432619450793.\n",
      "KNN Train Score: 0.9037245260145841.\n",
      "KNN Test Score: 0.7955130048055834.\n"
     ]
    }
   ],
   "source": [
    "knn=KNeighborsRegressor()\n",
    "knn.fit(X_train_sc,y_train)\n",
    "\n",
    "cv_score=cross_val_score(knn,X_train_sc,y_train).mean()\n",
    "train_score=knn.score(X_train_sc,y_train)\n",
    "test_score=knn.score(X_test_sc,y_test)\n",
    "\n",
    "print(f'KNN Cross Val Score: {cv_score}.')\n",
    "print(f'KNN Train Score: {train_score}.')\n",
    "print(f'KNN Test Score: {test_score}.')"
   ]
  },
  {
   "cell_type": "markdown",
   "id": "993db75c",
   "metadata": {},
   "source": [
    "#### Random Forest"
   ]
  },
  {
   "cell_type": "code",
   "execution_count": 30,
   "id": "43fd9ba5",
   "metadata": {
    "scrolled": true
   },
   "outputs": [
    {
     "name": "stdout",
     "output_type": "stream",
     "text": [
      "Random Forest Cross Val Score: 0.7498103043854301.\n",
      "Random Forest Train Score: 0.9673754983182293.\n",
      "Random Forest Test Score: 0.7019499906420636.\n"
     ]
    }
   ],
   "source": [
    "rf=RandomForestRegressor()\n",
    "rf.fit(X_train,y_train)\n",
    "\n",
    "cv_score=cross_val_score(rf,X_train,y_train).mean()\n",
    "train_score=rf.score(X_train,y_train)\n",
    "test_score=rf.score(X_test,y_test)\n",
    "\n",
    "print(f'Random Forest Cross Val Score: {cv_score}.')\n",
    "print(f'Random Forest Train Score: {train_score}.')\n",
    "print(f'Random Forest Test Score: {test_score}.')"
   ]
  },
  {
   "cell_type": "markdown",
   "id": "3679ef20",
   "metadata": {},
   "source": [
    "#### Adaboost"
   ]
  },
  {
   "cell_type": "code",
   "execution_count": 31,
   "id": "51f629e5",
   "metadata": {},
   "outputs": [
    {
     "name": "stdout",
     "output_type": "stream",
     "text": [
      "Adaboost Cross Val Score: 0.7605722046153891.\n",
      "Adaboost Train Score: 0.9205450915487601.\n",
      "Adaboost Test Score: 0.669188756752189.\n"
     ]
    }
   ],
   "source": [
    "# Non scaled data\n",
    "ada=AdaBoostRegressor()\n",
    "ada.fit(X_train,y_train)\n",
    "\n",
    "cv_score=cross_val_score(ada,X_train,y_train).mean()\n",
    "train_score=ada.score(X_train,y_train)\n",
    "test_score=ada.score(X_test,y_test)\n",
    "\n",
    "print(f'Adaboost Cross Val Score: {cv_score}.')\n",
    "print(f'Adaboost Train Score: {train_score}.')\n",
    "print(f'Adaboost Test Score: {test_score}.')"
   ]
  },
  {
   "cell_type": "code",
   "execution_count": 32,
   "id": "f8fb2f84",
   "metadata": {},
   "outputs": [
    {
     "name": "stdout",
     "output_type": "stream",
     "text": [
      "Adaboost Cross Val Score: 0.761244504269014.\n",
      "Adaboost Train Score: 0.9166505673386353.\n",
      "Adaboost Test Score: 0.6713101983245834.\n"
     ]
    }
   ],
   "source": [
    "# Scaled data\n",
    "ada=AdaBoostRegressor()\n",
    "ada.fit(X_train_sc,y_train)\n",
    "\n",
    "cv_score=cross_val_score(ada,X_train_sc,y_train).mean()\n",
    "train_score=ada.score(X_train_sc,y_train)\n",
    "test_score=ada.score(X_test_sc,y_test)\n",
    "\n",
    "print(f'Adaboost Cross Val Score: {cv_score}.')\n",
    "print(f'Adaboost Train Score: {train_score}.')\n",
    "print(f'Adaboost Test Score: {test_score}.')"
   ]
  },
  {
   "cell_type": "markdown",
   "id": "7a3cb490",
   "metadata": {},
   "source": [
    "## Seasonal Variables w/ County Dummies"
   ]
  },
  {
   "cell_type": "code",
   "execution_count": 33,
   "id": "600b694a",
   "metadata": {},
   "outputs": [],
   "source": [
    "df_dummies=pd.get_dummies(df, columns=['county'], drop_first=True)"
   ]
  },
  {
   "cell_type": "code",
   "execution_count": 34,
   "id": "3092819e",
   "metadata": {
    "scrolled": true
   },
   "outputs": [
    {
     "data": {
      "text/html": [
       "<div>\n",
       "<style scoped>\n",
       "    .dataframe tbody tr th:only-of-type {\n",
       "        vertical-align: middle;\n",
       "    }\n",
       "\n",
       "    .dataframe tbody tr th {\n",
       "        vertical-align: top;\n",
       "    }\n",
       "\n",
       "    .dataframe thead th {\n",
       "        text-align: right;\n",
       "    }\n",
       "</style>\n",
       "<table border=\"1\" class=\"dataframe\">\n",
       "  <thead>\n",
       "    <tr style=\"text-align: right;\">\n",
       "      <th></th>\n",
       "      <th>year</th>\n",
       "      <th>county code</th>\n",
       "      <th>harvested acres</th>\n",
       "      <th>yield</th>\n",
       "      <th>production</th>\n",
       "      <th>price p/u</th>\n",
       "      <th>value</th>\n",
       "      <th>annual_precip</th>\n",
       "      <th>annual_tavg</th>\n",
       "      <th>annual_tmin</th>\n",
       "      <th>...</th>\n",
       "      <th>season_var</th>\n",
       "      <th>county_Madera</th>\n",
       "      <th>county_Monterey</th>\n",
       "      <th>county_Napa</th>\n",
       "      <th>county_Sacramento</th>\n",
       "      <th>county_San Joaquin</th>\n",
       "      <th>county_San Luis Obispo</th>\n",
       "      <th>county_Santa Barbara</th>\n",
       "      <th>county_Sonoma</th>\n",
       "      <th>county_Yolo</th>\n",
       "    </tr>\n",
       "  </thead>\n",
       "  <tbody>\n",
       "    <tr>\n",
       "      <th>0</th>\n",
       "      <td>2000</td>\n",
       "      <td>19</td>\n",
       "      <td>75139.0</td>\n",
       "      <td>11.12</td>\n",
       "      <td>835310.0</td>\n",
       "      <td>177.0</td>\n",
       "      <td>147550000</td>\n",
       "      <td>20.72</td>\n",
       "      <td>55.708333</td>\n",
       "      <td>31.4</td>\n",
       "      <td>...</td>\n",
       "      <td>17.7</td>\n",
       "      <td>0</td>\n",
       "      <td>0</td>\n",
       "      <td>0</td>\n",
       "      <td>0</td>\n",
       "      <td>0</td>\n",
       "      <td>0</td>\n",
       "      <td>0</td>\n",
       "      <td>0</td>\n",
       "      <td>0</td>\n",
       "    </tr>\n",
       "    <tr>\n",
       "      <th>1</th>\n",
       "      <td>2000</td>\n",
       "      <td>39</td>\n",
       "      <td>56410.0</td>\n",
       "      <td>9.92</td>\n",
       "      <td>559563.0</td>\n",
       "      <td>186.0</td>\n",
       "      <td>103830000</td>\n",
       "      <td>25.89</td>\n",
       "      <td>56.516667</td>\n",
       "      <td>31.8</td>\n",
       "      <td>...</td>\n",
       "      <td>18.2</td>\n",
       "      <td>1</td>\n",
       "      <td>0</td>\n",
       "      <td>0</td>\n",
       "      <td>0</td>\n",
       "      <td>0</td>\n",
       "      <td>0</td>\n",
       "      <td>0</td>\n",
       "      <td>0</td>\n",
       "      <td>0</td>\n",
       "    </tr>\n",
       "    <tr>\n",
       "      <th>2</th>\n",
       "      <td>2000</td>\n",
       "      <td>55</td>\n",
       "      <td>32365.0</td>\n",
       "      <td>4.23</td>\n",
       "      <td>136962.0</td>\n",
       "      <td>2464.0</td>\n",
       "      <td>337469000</td>\n",
       "      <td>31.24</td>\n",
       "      <td>59.266667</td>\n",
       "      <td>38.1</td>\n",
       "      <td>...</td>\n",
       "      <td>12.2</td>\n",
       "      <td>0</td>\n",
       "      <td>0</td>\n",
       "      <td>1</td>\n",
       "      <td>0</td>\n",
       "      <td>0</td>\n",
       "      <td>0</td>\n",
       "      <td>0</td>\n",
       "      <td>0</td>\n",
       "      <td>0</td>\n",
       "    </tr>\n",
       "    <tr>\n",
       "      <th>3</th>\n",
       "      <td>2000</td>\n",
       "      <td>67</td>\n",
       "      <td>25024.0</td>\n",
       "      <td>7.10</td>\n",
       "      <td>177670.0</td>\n",
       "      <td>536.0</td>\n",
       "      <td>95231000</td>\n",
       "      <td>23.98</td>\n",
       "      <td>61.741667</td>\n",
       "      <td>38.8</td>\n",
       "      <td>...</td>\n",
       "      <td>14.8</td>\n",
       "      <td>0</td>\n",
       "      <td>0</td>\n",
       "      <td>0</td>\n",
       "      <td>1</td>\n",
       "      <td>0</td>\n",
       "      <td>0</td>\n",
       "      <td>0</td>\n",
       "      <td>0</td>\n",
       "      <td>0</td>\n",
       "    </tr>\n",
       "    <tr>\n",
       "      <th>4</th>\n",
       "      <td>2000</td>\n",
       "      <td>77</td>\n",
       "      <td>80711.0</td>\n",
       "      <td>7.74</td>\n",
       "      <td>624800.0</td>\n",
       "      <td>473.0</td>\n",
       "      <td>295793000</td>\n",
       "      <td>17.57</td>\n",
       "      <td>61.633333</td>\n",
       "      <td>38.1</td>\n",
       "      <td>...</td>\n",
       "      <td>13.8</td>\n",
       "      <td>0</td>\n",
       "      <td>0</td>\n",
       "      <td>0</td>\n",
       "      <td>0</td>\n",
       "      <td>1</td>\n",
       "      <td>0</td>\n",
       "      <td>0</td>\n",
       "      <td>0</td>\n",
       "      <td>0</td>\n",
       "    </tr>\n",
       "  </tbody>\n",
       "</table>\n",
       "<p>5 rows × 26 columns</p>\n",
       "</div>"
      ],
      "text/plain": [
       "   year  county code  harvested acres  yield  production  price p/u  \\\n",
       "0  2000           19          75139.0  11.12    835310.0      177.0   \n",
       "1  2000           39          56410.0   9.92    559563.0      186.0   \n",
       "2  2000           55          32365.0   4.23    136962.0     2464.0   \n",
       "3  2000           67          25024.0   7.10    177670.0      536.0   \n",
       "4  2000           77          80711.0   7.74    624800.0      473.0   \n",
       "\n",
       "       value  annual_precip  annual_tavg  annual_tmin  ...  season_var  \\\n",
       "0  147550000          20.72    55.708333         31.4  ...        17.7   \n",
       "1  103830000          25.89    56.516667         31.8  ...        18.2   \n",
       "2  337469000          31.24    59.266667         38.1  ...        12.2   \n",
       "3   95231000          23.98    61.741667         38.8  ...        14.8   \n",
       "4  295793000          17.57    61.633333         38.1  ...        13.8   \n",
       "\n",
       "   county_Madera  county_Monterey  county_Napa  county_Sacramento  \\\n",
       "0              0                0            0                  0   \n",
       "1              1                0            0                  0   \n",
       "2              0                0            1                  0   \n",
       "3              0                0            0                  1   \n",
       "4              0                0            0                  0   \n",
       "\n",
       "   county_San Joaquin  county_San Luis Obispo  county_Santa Barbara  \\\n",
       "0                   0                       0                     0   \n",
       "1                   0                       0                     0   \n",
       "2                   0                       0                     0   \n",
       "3                   0                       0                     0   \n",
       "4                   1                       0                     0   \n",
       "\n",
       "   county_Sonoma  county_Yolo  \n",
       "0              0            0  \n",
       "1              0            0  \n",
       "2              0            0  \n",
       "3              0            0  \n",
       "4              0            0  \n",
       "\n",
       "[5 rows x 26 columns]"
      ]
     },
     "execution_count": 34,
     "metadata": {},
     "output_type": "execute_result"
    }
   ],
   "source": [
    "df_dummies.head()"
   ]
  },
  {
   "cell_type": "code",
   "execution_count": 35,
   "id": "48797652",
   "metadata": {},
   "outputs": [],
   "source": [
    "correlation=df_dummies.drop(columns=['year','county code','harvested acres','production','price p/u','value']).corr()\n"
   ]
  },
  {
   "cell_type": "code",
   "execution_count": 48,
   "id": "1d44063e",
   "metadata": {},
   "outputs": [],
   "source": [
    "season_cols=[col for col in df_dummies.columns if col.startswith('season')]\n",
    "count_cols=[col for col in df_dummies.columns if col.startswith('county_')]"
   ]
  },
  {
   "cell_type": "code",
   "execution_count": null,
   "id": "84591317",
   "metadata": {},
   "outputs": [],
   "source": []
  },
  {
   "cell_type": "code",
   "execution_count": 51,
   "id": "e2551597",
   "metadata": {
    "scrolled": true
   },
   "outputs": [],
   "source": [
    "season_cols.remove('season_var')"
   ]
  },
  {
   "cell_type": "code",
   "execution_count": 53,
   "id": "30f8d75d",
   "metadata": {},
   "outputs": [
    {
     "data": {
      "text/plain": [
       "['county_Madera',\n",
       " 'county_Monterey',\n",
       " 'county_Napa',\n",
       " 'county_Sacramento',\n",
       " 'county_San Joaquin',\n",
       " 'county_San Luis Obispo',\n",
       " 'county_Santa Barbara',\n",
       " 'county_Sonoma',\n",
       " 'county_Yolo']"
      ]
     },
     "execution_count": 53,
     "metadata": {},
     "output_type": "execute_result"
    }
   ],
   "source": [
    "count_cols"
   ]
  },
  {
   "cell_type": "code",
   "execution_count": 54,
   "id": "af896947",
   "metadata": {},
   "outputs": [],
   "source": [
    "features=season_cols+count_cols\n",
    "features\n",
    "X=df_dummies[features]\n",
    "y=df_dummies['yield']"
   ]
  },
  {
   "cell_type": "code",
   "execution_count": 55,
   "id": "a993b0b9",
   "metadata": {},
   "outputs": [],
   "source": [
    "X_train,X_test,y_train,y_test=train_test_split(X,y,random_state=42)"
   ]
  },
  {
   "cell_type": "code",
   "execution_count": 56,
   "id": "05460424",
   "metadata": {},
   "outputs": [],
   "source": [
    "ss=StandardScaler()\n",
    "ss.fit(X_train)\n",
    "X_train_sc=ss.transform(X_train)\n",
    "X_test_sc=ss.transform(X_test)"
   ]
  },
  {
   "cell_type": "markdown",
   "id": "04606f67",
   "metadata": {},
   "source": [
    "#### Linear Regression"
   ]
  },
  {
   "cell_type": "code",
   "execution_count": 57,
   "id": "d3d0bbf6",
   "metadata": {},
   "outputs": [
    {
     "name": "stdout",
     "output_type": "stream",
     "text": [
      "Linear Regression Cross Val Score: 0.8479786035277804.\n",
      "Linear Regression Train Score: 0.887608444520364.\n",
      "Linear Regression Test Score: 0.8879845749881056.\n"
     ]
    }
   ],
   "source": [
    "# Non scaled data\n",
    "lr=LinearRegression()\n",
    "lr.fit(X_train,y_train)\n",
    "\n",
    "cv_score=cross_val_score(lr,X_train,y_train).mean()\n",
    "train_score=lr.score(X_train,y_train)\n",
    "test_score=lr.score(X_test,y_test)\n",
    "\n",
    "print(f'Linear Regression Cross Val Score: {cv_score}.')\n",
    "print(f'Linear Regression Train Score: {train_score}.')\n",
    "print(f'Linear Regression Test Score: {test_score}.')"
   ]
  },
  {
   "cell_type": "code",
   "execution_count": 58,
   "id": "644c4ee3",
   "metadata": {},
   "outputs": [
    {
     "name": "stdout",
     "output_type": "stream",
     "text": [
      "Linear Regression Cross Val Score: 0.8479786035277795.\n",
      "Linear Regression Train Score: 0.8876084445203641.\n",
      "Linear Regression Test Score: 0.8879845749881049.\n"
     ]
    }
   ],
   "source": [
    "# Scaled data\n",
    "lr=LinearRegression()\n",
    "lr.fit(X_train_sc,y_train)\n",
    "\n",
    "cv_score=cross_val_score(lr,X_train_sc,y_train).mean()\n",
    "train_score=lr.score(X_train_sc,y_train)\n",
    "test_score=lr.score(X_test_sc,y_test)\n",
    "\n",
    "print(f'Linear Regression Cross Val Score: {cv_score}.')\n",
    "print(f'Linear Regression Train Score: {train_score}.')\n",
    "print(f'Linear Regression Test Score: {test_score}.')"
   ]
  },
  {
   "cell_type": "code",
   "execution_count": 47,
   "id": "35af4a58",
   "metadata": {},
   "outputs": [
    {
     "data": {
      "text/plain": [
       "array([-0.14463257, -0.59272421,  0.30448915,  0.3878548 ,  0.13014379,\n",
       "       -0.33577696, -2.0323009 , -2.37248629, -1.36386094, -1.40966093,\n",
       "       -2.25703011, -2.18220478, -1.71237081, -1.29446122])"
      ]
     },
     "execution_count": 47,
     "metadata": {},
     "output_type": "execute_result"
    }
   ],
   "source": [
    "lr.coef_"
   ]
  },
  {
   "cell_type": "markdown",
   "id": "8b284c3a",
   "metadata": {},
   "source": [
    "#### KNN"
   ]
  },
  {
   "cell_type": "code",
   "execution_count": 43,
   "id": "1ea9069c",
   "metadata": {},
   "outputs": [
    {
     "name": "stdout",
     "output_type": "stream",
     "text": [
      "KNN Cross Val Score: 0.8422098950091765.\n",
      "KNN Train Score: 0.9002674187342772.\n",
      "KNN Test Score: 0.8629037027630089.\n"
     ]
    }
   ],
   "source": [
    "knn=KNeighborsRegressor()\n",
    "knn.fit(X_train_sc,y_train)\n",
    "\n",
    "cv_score=cross_val_score(knn,X_train_sc,y_train).mean()\n",
    "train_score=knn.score(X_train_sc,y_train)\n",
    "test_score=knn.score(X_test_sc,y_test)\n",
    "\n",
    "print(f'KNN Cross Val Score: {cv_score}.')\n",
    "print(f'KNN Train Score: {train_score}.')\n",
    "print(f'KNN Test Score: {test_score}.')"
   ]
  },
  {
   "cell_type": "markdown",
   "id": "ac892d4e",
   "metadata": {},
   "source": [
    "#### Random Forest"
   ]
  },
  {
   "cell_type": "code",
   "execution_count": 44,
   "id": "bff1d162",
   "metadata": {
    "scrolled": true
   },
   "outputs": [
    {
     "name": "stdout",
     "output_type": "stream",
     "text": [
      "Random Forest Cross Val Score: 0.6448964753387656.\n",
      "Random Forest Train Score: 0.954739103436734.\n",
      "Random Forest Test Score: 0.7162105509399455.\n"
     ]
    }
   ],
   "source": [
    "rf=RandomForestRegressor()\n",
    "rf.fit(X_train,y_train)\n",
    "\n",
    "cv_score=cross_val_score(rf,X_train,y_train).mean()\n",
    "train_score=rf.score(X_train,y_train)\n",
    "test_score=rf.score(X_test,y_test)\n",
    "\n",
    "print(f'Random Forest Cross Val Score: {cv_score}.')\n",
    "print(f'Random Forest Train Score: {train_score}.')\n",
    "print(f'Random Forest Test Score: {test_score}.')"
   ]
  },
  {
   "cell_type": "markdown",
   "id": "7098f3de",
   "metadata": {},
   "source": [
    "#### Adaboost"
   ]
  },
  {
   "cell_type": "code",
   "execution_count": 45,
   "id": "137edcde",
   "metadata": {},
   "outputs": [
    {
     "name": "stdout",
     "output_type": "stream",
     "text": [
      "Adaboost Cross Val Score: 0.7079059951319016.\n",
      "Adaboost Train Score: 0.8990802654462605.\n",
      "Adaboost Test Score: 0.7837991192573996.\n"
     ]
    }
   ],
   "source": [
    "# Non scaled data\n",
    "ada=AdaBoostRegressor()\n",
    "ada.fit(X_train,y_train)\n",
    "\n",
    "cv_score=cross_val_score(ada,X_train,y_train).mean()\n",
    "train_score=ada.score(X_train,y_train)\n",
    "test_score=ada.score(X_test,y_test)\n",
    "\n",
    "print(f'Adaboost Cross Val Score: {cv_score}.')\n",
    "print(f'Adaboost Train Score: {train_score}.')\n",
    "print(f'Adaboost Test Score: {test_score}.')"
   ]
  },
  {
   "cell_type": "code",
   "execution_count": 46,
   "id": "da3194c3",
   "metadata": {},
   "outputs": [
    {
     "name": "stdout",
     "output_type": "stream",
     "text": [
      "Adaboost Cross Val Score: 0.6739652364249307.\n",
      "Adaboost Train Score: 0.9042270523041877.\n",
      "Adaboost Test Score: 0.7797384282388009.\n"
     ]
    }
   ],
   "source": [
    "# Scaled data\n",
    "ada=AdaBoostRegressor()\n",
    "ada.fit(X_train_sc,y_train)\n",
    "\n",
    "cv_score=cross_val_score(ada,X_train_sc,y_train).mean()\n",
    "train_score=ada.score(X_train_sc,y_train)\n",
    "test_score=ada.score(X_test_sc,y_test)\n",
    "\n",
    "print(f'Adaboost Cross Val Score: {cv_score}.')\n",
    "print(f'Adaboost Train Score: {train_score}.')\n",
    "print(f'Adaboost Test Score: {test_score}.')"
   ]
  },
  {
   "cell_type": "code",
   "execution_count": null,
   "id": "bd6a6dc6",
   "metadata": {},
   "outputs": [],
   "source": []
  }
 ],
 "metadata": {
  "kernelspec": {
   "display_name": "Python 3 (ipykernel)",
   "language": "python",
   "name": "python3"
  },
  "language_info": {
   "codemirror_mode": {
    "name": "ipython",
    "version": 3
   },
   "file_extension": ".py",
   "mimetype": "text/x-python",
   "name": "python",
   "nbconvert_exporter": "python",
   "pygments_lexer": "ipython3",
   "version": "3.9.7"
  }
 },
 "nbformat": 4,
 "nbformat_minor": 5
}
